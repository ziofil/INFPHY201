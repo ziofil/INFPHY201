{
 "cells": [
  {
   "cell_type": "code",
   "execution_count": null,
   "metadata": {},
   "outputs": [],
   "source": [
    "from INFPHY201 import *"
   ]
  },
  {
   "cell_type": "markdown",
   "metadata": {},
   "source": [
    "# Lecture 6: Quantum Machine Learning\n",
    "![img](https://licensebuttons.net/l/by-nc-sa/3.0/88x31.png) Filippo Miatto (2020) \n",
    "\n",
    "Welcome to Lecture 6!<br>\n",
    "After this lecture you will be able to\n",
    "1. Explain what differentiation really is\n",
    "2. Describe the Gradient Descent algorithm\n",
    "3. Apply Automatic Differentiation to turn a numpy simulation into an optimization\n",
    "\n",
    "---\n",
    "***Preview of Lecture 6:***\n",
    "_Quantum Machine Learning can mean two things: either ML algorithms that run fully or in part on quantum hardware, or ML techniques applied to optimize or design quantum hardware/simulations/systems. Today we are going to look at the second: we will use Automatic Differentiation to optimize some properties of our quantum systems. AD is a very versatile meta-algorithm which we can use to turn simulations into optimizations. Although we will apply it in the context of Quantum Mechanics, it has innumerable applications._\n",
    "\n",
    "---"
   ]
  },
  {
   "cell_type": "markdown",
   "metadata": {},
   "source": [
    "# 4. Conclusion\n",
    "\n",
    "Today we have seen how to properly define differentiation and how to extend it to complex functions, and in particular non-holomorphic functions, which appear naturally when we simulate quantum mechanical systems and interactions.\n",
    "\n",
    "We have seen how to use AD to differentiate _code_! We have then used it to turn a simulation (a computation of the expectation value of a Pauli operator) into an optimization.\n",
    "\n",
    "My hope is that these techniques will stay with you beyond INFPHY201."
   ]
  }
 ],
 "metadata": {
  "kernelspec": {
   "display_name": "Python 3",
   "language": "python",
   "name": "python3"
  },
  "language_info": {
   "codemirror_mode": {
    "name": "ipython",
    "version": 3
   },
   "file_extension": ".py",
   "mimetype": "text/x-python",
   "name": "python",
   "nbconvert_exporter": "python",
   "pygments_lexer": "ipython3",
   "version": "3.8.2"
  }
 },
 "nbformat": 4,
 "nbformat_minor": 4
}
