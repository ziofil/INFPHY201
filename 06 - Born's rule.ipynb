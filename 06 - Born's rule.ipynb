{
 "cells": [
  {
   "cell_type": "markdown",
   "metadata": {},
   "source": [
    "![img](https://licensebuttons.net/l/by-nc-sa/3.0/88x31.png) Filippo Miatto (2024) "
   ]
  },
  {
   "cell_type": "markdown",
   "metadata": {},
   "source": [
    "# 1. Born's rule\n",
    "In Quantum Mechanics there are a few foundational rules and theorems. Born's rule is one of the most important ones, as it gives us the probability of the possible outcomes of a measurement. In this lecture we will study the simplest form of Born's rule, which we will generalize in the next lectures.\n",
    "\n",
    "Born's rule is simple: if you prepare your system in the state $|\\psi\\rangle$ (recall that this is just a normalized complex vector), the probability to find it in the state $|\\phi\\rangle$ is given by the absolute value squared of the inner product between the two (note we adopt a \"conditional probability\" notation):\n",
    "\n",
    "$$\n",
    "P(\\phi|\\psi) = |\\langle\\psi|\\phi\\rangle|^2.\n",
    "$$\n",
    "\n",
    "After the measurement, the system is no longer in the state $|\\psi\\rangle$ but in the state $|\\phi\\rangle$.\n",
    "\n",
    "Pause for a moment and think about this: in quantum mechanics if you prepare a system in some state, you have a non-zero probability to find it in another state! And the probability depends on the inner product between those states. The only guarantee that we have, therefore, is that we will never find the system in a state that is orthogonal to the one that we prepared, because in this case the inner product is zero and therefore the probability is zero: |$\\langle\\psi|\\psi^\\bot\\rangle|^2 = 0$.\n",
    "\n",
    "Is this because measurement devices are imperfect? No, we didn't assume anything about the measurement devices. This happens because the theory is embedded in linear algebra: a quantum state is a vector and so it can be written as a linear combination of other states, and we have some freedom in choosing which ones. So a quantum state has a non-zero component along any direction, except the directions that are exactly orthogonal to it. \n",
    "\n",
    "This is the mechanism that makes Quantum Mechanics a probabilistic theory. "
   ]
  },
  {
   "cell_type": "markdown",
   "metadata": {},
   "source": [
    "## 6.1 Bases and measurements\n",
    "If we consider an orthonormal basis of our Hilbert space, made of the vectors $\\{|v_i\\rangle\\}$, the probability to prepare the system in the state $|v_i\\rangle$ and to find it in the state $|v_j\\rangle$ is zero unless $i=j$ (because basis vectors are orthogonal). So the states in a basis are all states which cannot be \"mistaken\" for one another and we can associate them to _independent_ results of a measurement.\n",
    "\n",
    "This is teaching us three important facts about quantum measurements:\n",
    "1. To each basis of a Hilbert space corresponds a measurement\n",
    "2. Measurements have as many independent results as the dimension of the Hilbert space where the state is defined (becasue that is the largest number of independent basis vectors)\n",
    "3. Measurements project a state along the components of an orthonormal basis. And the probability of an outcome is proportional to the (square of the) projection along its corresponding basis element."
   ]
  },
  {
   "cell_type": "markdown",
   "metadata": {},
   "source": [
    "---\n",
    "#### Activity 6.1: probabilities (15 minutes)\n",
    "1. Write the function `prob(psi: ndarray, phi: ndarray) -> float` that takes two states $|\\psi\\rangle$ and $|\\phi\\rangle$ and returns $|\\langle\\psi|\\phi\\rangle|^2$.\n",
    "2. Write the function `probs(psi: ndarray, basis: ndarray) -> ndarray` that computes the probability of finding a state $|\\psi\\rangle$ on all the elements of a basis $\\{|v_i\\rangle\\}$. You could do this by calling the previous function on all of the basis elements, but it's better to be more efficient and pass to the function all of the basis states at once, written as the rows of a matrix.\n",
    "---"
   ]
  },
  {
   "cell_type": "code",
   "execution_count": 1,
   "metadata": {},
   "outputs": [],
   "source": [
    "import numpy as np\n",
    "from qernel.quantum import inner_product, basis\n",
    "\n",
    "def prob(psi: np.ndarray, phi: np.ndarray) -> float:\n",
    "    return np.abs(inner_product(psi, phi))**2\n",
    "\n",
    "def prob_basis(psi: np.ndarray, basis: np.ndarray) -> np.ndarray:\n",
    "    el = \n",
    "    return np.abs(inner_product(psi, basis))**2"
   ]
  },
  {
   "cell_type": "code",
   "execution_count": null,
   "metadata": {},
   "outputs": [],
   "source": []
  }
 ],
 "metadata": {
  "kernelspec": {
   "display_name": ".venv",
   "language": "python",
   "name": "python3"
  },
  "language_info": {
   "codemirror_mode": {
    "name": "ipython",
    "version": 3
   },
   "file_extension": ".py",
   "mimetype": "text/x-python",
   "name": "python",
   "nbconvert_exporter": "python",
   "pygments_lexer": "ipython3",
   "version": "3.11.10"
  }
 },
 "nbformat": 4,
 "nbformat_minor": 2
}
