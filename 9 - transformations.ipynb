{
 "cells": [
  {
   "cell_type": "code",
   "execution_count": null,
   "metadata": {},
   "outputs": [],
   "source": []
  },
  {
   "cell_type": "markdown",
   "metadata": {},
   "source": [
    "# Lecture 3: Transformations of quantum states\n",
    "![img](https://licensebuttons.net/l/by-nc-sa/3.0/88x31.png) Filippo Miatto (2020) \n",
    "\n",
    "Welcome to Lecture 3!<br>\n",
    "After this lecture you will be able to:\n",
    "1. Explain the exponential representation of unitary transformations\n",
    "2. Interpret the meaning and the action of unitary transformations\n",
    "3. Model the transformation of a qubit\n",
    "4. Model the time evolution of a quantum state\n",
    "\n",
    "---\n",
    "***Recap of Lecture 2:***\n",
    "_In Lecture 2 we saw how to model Measurements (the second pillar of QM). We think of a measurement as an orthonormal basis in the Hilbert space of the system, where each vector in the basis corresponds to a possible outcome. The actual outcome that we obtain is random, and it follows the probability distribution given by the absolute value squared of the coefficients of the state vector written in this basis. The measurement collapses the state vector of the system onto the basis element corresponding to the result, and no trace of the previous state is left. Given the correspondence beween bases and measurements, we use Hermitian matrices to represent Observable quantities. The idea is to use the eigenbasis of the matrix as the basis for the measurement of that Observable. Then we could think of the eigenvalues as simply the numerical quantities associated with the outcomes (which allows us for examples to include measurement units). Finally, we associated each element of the basis to a projector onto that eigenspace. This allows us to treat projectors as \"probability operators\", as their expectation value is the probability of obtainin that outcome._\n",
    "\n",
    "---\n",
    "***Preview of Lecture 3:***\n",
    "_Today we model transformations of quantum states with Unitary operators. The reason is that Unitary operators don't change the length of complex vectors: they simply rotate them into other vectors of the same length, i.e. they transform states into states. Our goal today is to express unitary transformations in a clever and useful way, and to include the transformation of a qubit and the time-evolution as particular, but very important cases._\n",
    "\n",
    "---"
   ]
  }
 ],
 "metadata": {
  "language_info": {
   "name": "python"
  }
 },
 "nbformat": 4,
 "nbformat_minor": 2
}
