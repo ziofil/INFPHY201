{
 "cells": [
  {
   "cell_type": "markdown",
   "metadata": {},
   "source": [
    "![img](https://licensebuttons.net/l/by-nc-sa/3.0/88x31.png) Filippo Miatto (2024) "
   ]
  },
  {
   "cell_type": "markdown",
   "metadata": {},
   "source": [
    "# 4. Continuous quantum systems and wave functions\n",
    "Some properties have a clearly finite-dimensional space associated to them, such as the spin of an electron which as we saw, is only 2-dimensional. Other properties however, have an actually _continuous_ range of values, such as the position of a particle. In theoretical QM this is treated using infinite-dimensional Hilbert spaces (e.g. $L_2(\\mathbb{R})$, the space of mod-square integrable functions). This however is not the best for us because we cannot fit an infinite-dimensional vector space in our computer. There are a couple of ways out of this issue:\n",
    "\n",
    "1. Discretize the space and things will be okay in the limit for a discretization that is small enough\n",
    " - pro: easy\n",
    " - con: states that not physically important are treated as fundamental\n",
    " \n",
    " \n",
    "2. Use a discrete (still finite) basis of continuous functions\n",
    " - pro: physically relevant states are fundamental\n",
    " - con: a bit harder to set up\n",
    "\n",
    "In both cases, we approximate an infinite-dimensional vector space with a finite-dimensional one. The clever way to think about this is that not all quantum states are equally likely/important/useful and so not all finite-dimensional approximations are equally good, even for equal dimensionality. We should pick the one that best suits our needs.\n",
    "\n",
    "This is where wave functions come in. A wave function is an element of an infinite-dimensional Hilbert space. You can think of it as a continuous version of a vector:\n",
    "\n",
    "$$\n",
    "|\\psi\\rangle = \\int_{-\\infty}^{\\infty}\\psi(x)|x\\rangle\\, dx\n",
    "$$\n",
    "\n",
    "The way to think about it is that in the finite dimensional case, the entries of a state vector were indexed by the little index $i$ below each amplitude $\\psi_i$, whereas here they are indexed by a continuous index $x$. After all, a function $\\psi(x)$ can be thought of as a \"vector of values\", indexed by a continuous index $x$.\n",
    "\n",
    "So the inner product in this infinite-dimensional vector space is\n",
    "\n",
    "$$\n",
    "\\langle\\psi|\\phi\\rangle = \\int_{-\\infty}^{\\infty}\\psi(x)^*\\phi(x)dx\n",
    "$$\n",
    "\n",
    "and therefore the norm is:\n",
    "\n",
    "$$\n",
    "\\langle\\psi|\\psi\\rangle = \\int_{-\\infty}^{\\infty}\\psi(x)^*\\psi(x)\\,dx = \\int_{-\\infty}^{\\infty}|\\psi(x)|^2\\,dx\n",
    "$$"
   ]
  },
  {
   "cell_type": "markdown",
   "metadata": {},
   "source": [
    "### 4.1 First solution: brute-force discretization\n",
    "The first solution is equivalent to clipping the space from $(-\\infty, \\infty)$ to a finite interval, say $[0,L]$ and dividing it into steps of length $\\delta x$. Then we obtain a Hilbert space of dimension $L/\\delta x$. This is like having a particle in a 1D box of length $L$.\n",
    "\n",
    "All the states are going to be defined in this Hilbert space. For example, the state of a particle that sits at the origin is $|\\psi\\rangle=(1,0,0,\\dots)$, the particle that sits at position $2\\delta x$ is $|\\psi\\rangle = (0,0,1,0,\\dots)$ and so on.\n",
    "\n",
    "This is the high-dimensional equivalent of the canonical basis."
   ]
  },
  {
   "cell_type": "markdown",
   "metadata": {},
   "source": [
    "#### Activity 7: wave function visualization (10 min)\n",
    "(use the helper function `plot_position()` that you will find in the library of the course)\n",
    "\n",
    "- Let $L = 100$. Visualize a random state\n",
    "- Let $L = 10$. Visualize 3 _different_ states where the particle has an equal probability of being at x = 0 and x = 3.\n",
    "- Let $L = 100$. Visualize a state whose probability distribution is a Gaussian function centered at 50 with std = 5."
   ]
  },
  {
   "cell_type": "code",
   "execution_count": null,
   "metadata": {},
   "outputs": [],
   "source": [
    "import numpy as np\n",
    "from INFPHY201 import plot_position"
   ]
  },
  {
   "cell_type": "code",
   "execution_count": null,
   "metadata": {},
   "outputs": [],
   "source": [
    "plot_position(rand_state(100))"
   ]
  },
  {
   "cell_type": "code",
   "execution_count": null,
   "metadata": {},
   "outputs": [],
   "source": [
    "s = np.pi/4\n",
    "\n",
    "psi = np.array([1/np.sqrt(2),0,0,np.exp(1j*s)*1/np.sqrt(2),0,0,0,0,0,0])\n",
    "\n",
    "plot_position(psi)"
   ]
  },
  {
   "cell_type": "code",
   "execution_count": null,
   "metadata": {},
   "outputs": [],
   "source": [
    "psi = np.array([np.exp(-(x-50)**2/(2*25)) for x in range(100)])\n",
    "\n",
    "psi = psi/np.linalg.norm(psi)\n",
    "\n",
    "plot_position(psi)"
   ]
  },
  {
   "cell_type": "markdown",
   "metadata": {},
   "source": [
    "### 4.2 Second solution: basis of functions\n",
    "\n",
    "When we form superpositions of quantum states, we always use the same formula:\n",
    "\n",
    "$$\n",
    "|\\psi\\rangle = \\sum_i \\psi_i|i\\rangle\n",
    "$$\n",
    "\n",
    "so what if we use a different basis? Instead of the canonical basis $\\{|i\\rangle\\}$ we could use $\\{|v_i\\rangle\\}$, as long as it is orthonormal:\n",
    "\n",
    "$$\n",
    "\\langle v_i|v_j\\rangle = \\delta_{ij}\n",
    "$$\n",
    "\n",
    "Here is where we can get creative. We can rotate the canonical basis to any other basis by using a unitary matrix $V$:\n",
    "\n",
    "$$\n",
    "|v_i\\rangle = V|i\\rangle\n",
    "$$\n",
    "\n",
    "In fact, if we apply $V$ to the canonical basis elements $|i\\rangle$, the vectors $|v_i\\rangle$ are the columns of $V$, and we know that the columns of a unitary matrix are orthonormal vectors (and so are the rows, by the way).\n",
    "\n",
    "But we have so many possible unitary matrices to choose from! How do we pick one?\n",
    "To answer this question we need to know a bit more about Quantum Mechanics, in particular about the physical importance of the energy of a system: physical systems tend to prefer lower energy states so we should make sure we can describe those first, then we can progressively describe higher-energy states until we are satisfied or we run out of resources. Also, if we have a good description of states with a fixed energy, we will see in Lecture 3 that it will become really easy to predict how a system evolves in time.\n",
    "\n",
    "NOTE: _To those of you who have know about compression of information, the following may feel familiar. When you want to describe something the first thing you do is you look at what occurs more often and you make sure you can describe that well, then you go progressively toward things that occur less often until you are happy._"
   ]
  },
  {
   "cell_type": "code",
   "execution_count": null,
   "metadata": {},
   "outputs": [],
   "source": [
    "from INFPHY201 import psi_n"
   ]
  },
  {
   "cell_type": "code",
   "execution_count": null,
   "metadata": {},
   "outputs": [],
   "source": [
    "import matplotlib.pyplot as plt\n",
    "\n",
    "x,y = psi_n(1, 200, 3)\n",
    "plt.plot(x, np.abs(y)**2); # plotting the probabilities"
   ]
  },
  {
   "cell_type": "markdown",
   "metadata": {},
   "source": [
    "#### Activity 8: Orthogonality of wave functions (10 min)\n",
    "- Verify that the elements of the basis of eigenfunctions of the square box are orthonormal (pick a large discretization, say $d=100$)"
   ]
  },
  {
   "cell_type": "code",
   "execution_count": null,
   "metadata": {},
   "outputs": [],
   "source": [
    "basis = np.array([psi_n(L=1, dim=100, n=n)[1] for n in range(20)])"
   ]
  },
  {
   "cell_type": "code",
   "execution_count": null,
   "metadata": {},
   "outputs": [],
   "source": [
    "basis.shape"
   ]
  },
  {
   "cell_type": "code",
   "execution_count": null,
   "metadata": {},
   "outputs": [],
   "source": [
    "plt.matshow(np.real(basis@np.conj(basis.T)))"
   ]
  },
  {
   "cell_type": "code",
   "execution_count": null,
   "metadata": {},
   "outputs": [],
   "source": []
  }
 ],
 "metadata": {
  "language_info": {
   "name": "python"
  }
 },
 "nbformat": 4,
 "nbformat_minor": 2
}
