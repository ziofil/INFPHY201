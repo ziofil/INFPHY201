{
 "cells": [
  {
   "cell_type": "markdown",
   "metadata": {
    "vscode": {
     "languageId": "plaintext"
    }
   },
   "source": [
    "![img](https://licensebuttons.net/l/by-nc-sa/3.0/88x31.png) Filippo Miatto (2024) "
   ]
  },
  {
   "cell_type": "markdown",
   "metadata": {},
   "source": [
    "# Lecture 5: Measurements and Observables\n",
    "\n",
    "Welcome to Lecture 2!<br>\n",
    "After this lecture you will be able to:\n",
    "1. Explain why Quantum Mechanics must be a probabilistic theory\n",
    "2. Model a quantum measurement \n",
    "3. Compute the eigenbasis of an observable"
   ]
  },
  {
   "cell_type": "markdown",
   "metadata": {},
   "source": [
    "---\n",
    "***Recap of Lecture 1:***\n",
    "_In Lecture 1 we introduced quantum **States**: the first of the three pillars of Quantum Mechanics (States, Transformations and Measurements). We saw that quantum states are vectors in a complex vector space called Hilbert space. We saw that qubits are the simplest possible quantum systems because their Hilbert space is only 2-dimensional, and thanks to this, qubit states can be visualized on the Bloch sphere. We also saw that more complex systems have states that are defined on higher-dimensional spaces, even infinite-dimensional ones, in which case it makes more sense to talk about wavefunctions, which are the continuum version of state vectors._\n",
    "    \n",
    "---\n",
    "***Preview of Lecture 2:***\n",
    "_Today we will see how to model **Measurements** in Quantum Mechanics. We will understand that quantum measurements have to be probabilistic because states are vectors and can be written using different bases. We will learn how to describe observable quantities as Hermitian matrices and how to compute the probability of the measurement outcomes when a system is in a given state. Finally, we will associate outcomes to projectors (a particular type of matrix) and learn to use projectors mathematically to compute outcome probabilities._\n",
    "\n",
    "---"
   ]
  }
 ],
 "metadata": {
  "kernelspec": {
   "display_name": "Python 3",
   "language": "python",
   "name": "python3"
  },
  "language_info": {
   "codemirror_mode": {
    "name": "ipython",
    "version": 3
   },
   "file_extension": ".py",
   "mimetype": "text/x-python",
   "name": "python",
   "nbconvert_exporter": "python",
   "pygments_lexer": "ipython3",
   "version": "3.11.10"
  }
 },
 "nbformat": 4,
 "nbformat_minor": 4
}
