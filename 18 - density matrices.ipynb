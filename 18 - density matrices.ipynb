{
 "cells": [
  {
   "cell_type": "code",
   "execution_count": null,
   "metadata": {},
   "outputs": [],
   "source": []
  },
  {
   "cell_type": "markdown",
   "metadata": {},
   "source": [
    "# 1. Density matrices\n",
    "\n",
    "## 1.1 Definition of a density matrix\n",
    "We have seen in Lecture 1 that the mathematical representation of the state of a quantum system is a vector of amplitudes. Such representation assumes that we have complete information about the system, and this is not always the case. If we have only partial information about the system, we cannot use a state vector because the Born rule will give us wrong values for the measurement probabilities. For example, if we have a preparation procedure that goes like this: toss a coin and if you obtain _heads_ prepare $|0\\rangle$ while if you obtain _tails_ prepare $|1\\rangle$, how do we compute the probability to obtain the outcomes of a certain measurement?\n",
    "\n",
    "We can use the Born rule as the starting point to derive a more general representation of quantum states, that holds in all cases (however, we should use state vectors if we are allowed to, as they require less memory and less processing power). The Born rule for state vectors says that the probability to obtain the outcome $|i\\rangle$ (belonging to some basis), _given that_ we followed the procedure to prepare the state $|\\psi\\rangle$ is given by the mod-square of the inner product (i.e. of the overlap):\n",
    "\n",
    "$$P(i|\\psi) = |\\langle i|\\psi\\rangle|^2$$\n",
    "\n",
    "Today we will generalize this rule from the point of view of the state preparation: i.e. we will derive what to do if we have uncertainty about the initial state $|\\psi\\rangle$. In the next lecture we will generalize this rule from the point of view of the measurement: i.e. we will derive what to do if we have uncertainty about the outcome $|i\\rangle$.\n",
    "\n",
    "Let's now suppose that instead of knowing with certainty that we have a quantum system in the state $|\\psi\\rangle$, we only know that the state is $|\\psi_j\\rangle$ with probability $P(\\psi_j)$. Note that we did not say that the set $\\{|\\psi_j\\rangle\\}$ is a basis, in fact it can be any set of states. The global probability of observing the result $i$ is the weighted sum of the individual probabilities:\n",
    "\n",
    "\\begin{align}\n",
    "P(i) &= \\sum_jP(i|\\psi_j)P(\\psi_j) = \\sum_j|\\langle i|\\psi_j\\rangle|^2P(\\psi_j)\\\\\n",
    "&=\\sum_j\\langle i|\\psi_j\\rangle\\langle \\psi_j|i\\rangle P(\\psi_j)=\\langle i|\\biggl(\\sum_jP(\\psi_j)|\\psi_j\\rangle\\langle \\psi_j|\\biggr)|i\\rangle\\\\\n",
    "&=\\langle i|\\rho|i\\rangle\n",
    "\\end{align}\n",
    "\n",
    "where we have defined the operator $$\\rho = \\sum_jP(\\psi_j)|\\psi_j\\rangle\\langle \\psi_j|$$ which is our __density matrix__ and it represents the state that we assign to the system, taking into account our uncertainty over the set $\\{|\\psi_i\\rangle\\}$ encoded by the probability distribution $P(\\psi_i)$.\n",
    "\n",
    "Here's a few things to notice:\n",
    "1. $\\rho$ is a matrix, not a vector\n",
    "2. if we are 100% sure that the system is in a certain state $\\psi$, $P(\\psi) = 1$ and therefore $\\rho=|\\psi\\rangle\\langle\\psi|$ and we obtain the old version of the Born rule: $\\langle i |\\rho|i\\rangle = \\langle i|\\psi\\rangle\\langle\\psi|i\\rangle= |\\langle i | \\psi\\rangle|^2$. In this case we say that $\\rho$ is the density matrix of a pure state. If a state is not pure, it is \"mixed\".\n",
    "3. A pure state can be written either as a vector $|\\psi\\rangle$ or as a density matrix $|\\psi\\rangle\\langle\\psi|$, but a mixed state can only be written as a density matrix.\n",
    "4. A density matrix is positive semidefinite ($\\rho\\geq0$, i.e. it has non-negative eigenvalues), it's hermitian ($\\rho^\\dagger=\\rho$) and has trace equal to 1 (i.e. the sum of the numbers on the diagonal is 1).\n",
    "5. $\\langle i|\\rho|i\\rangle$ is not the most general version of the Born rule (we have not generalized the measurements yet), but note that $\\langle i|\\rho|i\\rangle = \\mathrm{Tr}(|i\\rangle\\langle i|\\rho)$, which will be extremely useful in the next lecture when we will generalize measurements.\n",
    "6. We can find the matrix elements with respect to a basis by computing the inner products $\\rho_{ij} = \\langle i|\\rho|j\\rangle$.\n",
    "\n",
    "Let's see some explicit examples.\n",
    "\n",
    "1) We toss a coin and when the result is heads we create a qubit in the state $|0\\rangle$, when it's tails we create a qubit in the state $|1\\rangle$. Then $P(0) = P(1) = 1/2$ and the state of this qubit is $|0\\rangle\\langle 0|/2 + |1\\rangle\\langle 1|/2$. This is known as the \"maximally mixed\" state, because it correspond to a state of maximal uncertainty. In the computational basis, this is the matrix $\\left(\\begin{smallmatrix}\\frac12&0\\\\0&\\frac12\\end{smallmatrix}\\right)$. The maximally mixed state actually looks like this in any basis (notice it's proportional to the identity).\n",
    "\n",
    "2) We throw a die and when the result is 1 we create a qubit in the state $|0\\rangle$, when it's 2,3,4,5 or 6 we create the state $|1\\rangle$. Then $P(0) = 1/6$ and $P(1) = 5/6$ and the state of the qubit is $|0\\rangle\\langle 0|/6 + 5|1\\rangle\\langle 1|/6$. This is not a maximally mixed state. In the computational basis, this is the matrix $\\left(\\begin{smallmatrix}\\frac16&0\\\\0&\\frac56\\end{smallmatrix}\\right)$. This matrix will look different in other bases."
   ]
  },
  {
   "cell_type": "markdown",
   "metadata": {},
   "source": [
    "# 1.4 Expectation values\n",
    "We saw in lecture 2 that measuring a pure quantum state was equivalent to projecting it onto the eigenbasis of the observable being measured. We had then developed a formula to express the expectation value of an observable (i.e. the average over the possible results):\n",
    "\n",
    "$$\n",
    "\\langle M \\rangle_\\psi = \\sum_i \\lambda_i P_i = \\sum_i \\lambda_i |\\langle v_i|\\psi\\rangle|^2 = \\sum_i \\lambda_i \\langle\\psi|v_i\\rangle\\langle v_i|\\psi\\rangle = \\langle\\psi|\\left(\\sum_i \\lambda_i|v_i\\rangle\\langle v_i|\\right)|\\psi\\rangle = \\langle\\psi|M|\\psi\\rangle\n",
    "$$\n",
    "\n",
    "Now we don't have the state $|\\psi\\rangle$ with certainty, but rather a density matrix $\\rho$, so what should we do? Well, when we write the probability $P_i$ of the outcome $i$ we need to use our updated Born rule:\n",
    "\n",
    "$$\n",
    "\\langle M \\rangle_\\rho = \\sum_i \\lambda_i P_i = \\sum_i \\lambda_i \\langle v_i|\\rho|v_i\\rangle = \\sum_i \\lambda_i \\mathrm{Tr}\\left(|v_i\\rangle\\langle v_i|\\rho\\right) = \\mathrm{Tr}\\left(\\sum_i \\lambda_i |v_i\\rangle\\langle v_i|\\rho\\right) = \\mathrm{Tr}\\left(M\\rho\\right)\n",
    "$$\n",
    "\n",
    "Again, we have obtained a very simple expression for the expectation value of a measurement of a mixed state, that does not require us to compute eigenbases or eigenvectors explicitly!\n",
    "Note that the expectation value of an observable is a real number also in this generalized case (it's a sum of probabilities multiplied by its eigenvalues, which are real numbers because observables are Hermitian matrices)."
   ]
  },
  {
   "cell_type": "markdown",
   "metadata": {},
   "source": [
    "#### Activity 4: expectation values of the Pauli operators (10 min)\n",
    "As a useful exercise to practice computing expectation values, we can do it for qubits. This will unlock a bonus for the next section!\n",
    "\n",
    "Write three functions that compute the expectation value of the three Pauli operators:\n",
    "\n",
    "\\begin{align}\n",
    "x &= \\mathrm{Tr}(\\rho X) \\qquad X = \\begin{pmatrix}0&1\\\\1&0\\end{pmatrix}\\\\\n",
    "y &= \\mathrm{Tr}(\\rho Y) \\qquad Y = \\begin{pmatrix}0&i\\\\-i&0\\end{pmatrix}\\\\\n",
    "z &= \\mathrm{Tr}(\\rho Z) \\qquad Z = \\begin{pmatrix}1&0\\\\0&-1\\end{pmatrix}\\\\\n",
    "\\end{align}\n",
    "\n",
    "The signature of each function should be `f(array[complex]) -> float`."
   ]
  },
  {
   "cell_type": "code",
   "execution_count": null,
   "metadata": {},
   "outputs": [],
   "source": [
    "def exp_X(rho):\n",
    "    X = np.array([[0,1],[1,0]])\n",
    "    \n",
    "    return np.einsum('ab,ba', rho, X)\n",
    "\n",
    "def exp_Y(rho):\n",
    "    Y = np.array([[0,1j],[-1j,0]])\n",
    "    \n",
    "    return np.einsum('ab,ba', rho, Y)\n",
    "\n",
    "def exp_Z(rho):\n",
    "    Z = np.array([[1,0],[0,-1]])\n",
    "    \n",
    "    return np.einsum('ab,ba', rho, Z)\n",
    "\n"
   ]
  },
  {
   "cell_type": "markdown",
   "metadata": {},
   "source": [
    "## 1.5 Mixed states in the Bloch sphere\n",
    "\n",
    "In lecture 1 we saw that the states of a qubit can be represented in a sphere of radius 1 centered on the origin, called the Bloch sphere. What we will add today is that the 3 coordinates of a state in the Bloch sphere are given by the expectation values of the three Pauli operators:\n",
    "\n",
    "\\begin{align}\n",
    "x &= \\mathrm{Tr}(\\rho X) \\qquad X = \\begin{pmatrix}0&1\\\\1&0\\end{pmatrix}\\\\\n",
    "y &= \\mathrm{Tr}(\\rho Y) \\qquad Y = \\begin{pmatrix}0&i\\\\-i&0\\end{pmatrix}\\\\\n",
    "z &= \\mathrm{Tr}(\\rho Z) \\qquad Z = \\begin{pmatrix}1&0\\\\0&-1\\end{pmatrix}\\\\\n",
    "\\end{align}\n",
    "\n",
    "If a qubit state is a valid density matrix, the three coordinates will automatically fall inside or at most on the surface of the sphere. All pure states sit on the surface, mixed states are in the interior."
   ]
  },
  {
   "cell_type": "markdown",
   "metadata": {},
   "source": [
    "#### ACTIVITY 5: Bloch vector (10 min)\n",
    "Write a function that takes the density operator of a qubit, it validates it (if it's not valid it raises a `ValueError`), and then it returns the three coordinates of the state in the Bloch sphere (i.e. the Bloch vector).\n",
    "The signature should be `f(array[complex]) -> array[float]`\n",
    "\n",
    "Note that the more a state is pure, the closer to the surface of the Bloch sphere it will be. The maximally mixed state instead, is at the center of the Bloch sphere. What does it mean for measurements if the state is at the center?"
   ]
  },
  {
   "cell_type": "code",
   "execution_count": null,
   "metadata": {},
   "outputs": [],
   "source": [
    "def bloch_vector(rho):\n",
    "    \n",
    "    return np.array([exp_X(rho), exp_Y(rho), exp_Z(rho)])"
   ]
  },
  {
   "cell_type": "code",
   "execution_count": null,
   "metadata": {},
   "outputs": [
    {
     "data": {
      "text/plain": [
       "array([0.+0.j, 0.+0.j, 0.+0.j])"
      ]
     },
     "metadata": {},
     "output_type": "display_data"
    }
   ],
   "source": [
    "bloch_vector(np.array([[0.5,0],[0,0.5]]))"
   ]
  },
  {
   "cell_type": "code",
   "execution_count": null,
   "metadata": {},
   "outputs": [
    {
     "data": {
      "text/plain": [
       "array([0.+0.j, 0.+0.j, 1.+0.j])"
      ]
     },
     "metadata": {},
     "output_type": "display_data"
    }
   ],
   "source": [
    "bloch_vector(np.array([[1,0],[0,0]]))"
   ]
  },
  {
   "cell_type": "code",
   "execution_count": null,
   "metadata": {},
   "outputs": [],
   "source": []
  },
  {
   "cell_type": "markdown",
   "metadata": {},
   "source": [
    "## 1.2 Pure and mixed states, purity of a state.\n",
    "\n",
    "There is a simple criterion to differentiate between pure and mixed states: if there exists a state $|\\psi\\rangle$ such that the density matrix can be written as the outer product $\\rho=|\\psi\\rangle\\langle\\psi|$, then the state is pure.\n",
    "If it cannot be written as such, and it has to be written as a convex combination $\\rho=\\sum_iP(\\psi_i)|\\psi_i\\rangle\\langle\\psi_i|$, then the state is mixed.\n",
    "Don't assume that just because you have a density matrix that the state must be mixed: it could be a pure state $\\rho=|\\psi\\rangle\\langle\\psi|$. \n",
    "\n",
    "Note that the density matrix of a pure state is a projector: $\\rho^2 = \\rho = |\\psi\\rangle\\langle\\psi|$. This is not true if the state is mixed: $\\rho^2=\\sum_iP(\\psi_i)^2|\\psi_i\\rangle\\langle\\psi_i| \\neq \\rho$. This can be used as a tool to determine how pure a state is. we define the _purity_ of a state as:\n",
    "\n",
    "$$\n",
    "\\mathcal{P}(\\rho) = \\mathrm{Tr}(\\rho^2) \\in [\\frac{1}{D},1]\n",
    "$$\n",
    "\n",
    "which is a number between $1/D$ (where $D$ is the dimension of the state space) and 1. If it's 1 the state is pure, if it's $1/D$ the state is maximally mixed."
   ]
  },
  {
   "cell_type": "markdown",
   "metadata": {},
   "source": [
    "## 1.3 Density matrix of a qubit\n",
    "The simplest quantum system is a qubit, so let's see what qubit states look like when we describe them with a density matrix.\n",
    "\n",
    "We begin with _pure_ states, i.e. states that we might just as well describe with a vector, but for the sake of the argument we use density matrices. Let's see the computational states $|0\\rangle\\langle 0|$, $|1\\rangle\\langle 1|$ and a few other important ones. To compute them, we just have to take the _outer_ product between (e.g.) the ket $|0\\rangle$ and the bra $\\langle 0|$. IMPORTANT: we should take the complex conjugate of the vector on the right (as we turn it from a ket to a bra). This only matters if we have complex amplitudes, but for good practice we should always do it."
   ]
  },
  {
   "cell_type": "code",
   "execution_count": null,
   "metadata": {},
   "outputs": [],
   "source": [
    "zero = np.array([1,0]) # state |0>\n",
    "one = np.array([0,1]) # state |1>"
   ]
  },
  {
   "cell_type": "code",
   "execution_count": null,
   "metadata": {},
   "outputs": [
    {
     "data": {
      "text/plain": [
       "array([[1, 0],\n",
       "       [0, 0]])"
      ]
     },
     "metadata": {},
     "output_type": "display_data"
    }
   ],
   "source": [
    "np.einsum('a,b', zero, zero.conj()) # |0><0|"
   ]
  },
  {
   "cell_type": "code",
   "execution_count": null,
   "metadata": {},
   "outputs": [
    {
     "data": {
      "text/plain": [
       "array([[0, 0],\n",
       "       [0, 1]])"
      ]
     },
     "metadata": {},
     "output_type": "display_data"
    }
   ],
   "source": [
    "np.einsum('a,b', one, one.conj()) # |1><1|"
   ]
  },
  {
   "cell_type": "markdown",
   "metadata": {},
   "source": [
    "Next let's see the $|+\\rangle$ and $|-\\rangle$ states:"
   ]
  },
  {
   "cell_type": "code",
   "execution_count": null,
   "metadata": {},
   "outputs": [],
   "source": [
    "plus = np.array([1,1])/np.sqrt(2)\n",
    "minus = np.array([1,-1])/np.sqrt(2)"
   ]
  },
  {
   "cell_type": "code",
   "execution_count": null,
   "metadata": {},
   "outputs": [
    {
     "data": {
      "text/plain": [
       "array([[0.5, 0.5],\n",
       "       [0.5, 0.5]])"
      ]
     },
     "metadata": {},
     "output_type": "display_data"
    }
   ],
   "source": [
    "rho_plus = np.einsum('a,b', plus, plus.conj())\n",
    "rho_plus"
   ]
  },
  {
   "cell_type": "code",
   "execution_count": null,
   "metadata": {},
   "outputs": [
    {
     "data": {
      "text/plain": [
       "array([[ 0.5, -0.5],\n",
       "       [-0.5,  0.5]])"
      ]
     },
     "metadata": {},
     "output_type": "display_data"
    }
   ],
   "source": [
    "rho_minus = np.einsum('a,b', minus, minus.conj())\n",
    "rho_minus"
   ]
  },
  {
   "cell_type": "markdown",
   "metadata": {},
   "source": [
    "A mixed state is then a convex combination of density matrices:"
   ]
  },
  {
   "cell_type": "code",
   "execution_count": null,
   "metadata": {},
   "outputs": [
    {
     "data": {
      "text/plain": [
       "array([[ 0.5, -0.2],\n",
       "       [-0.2,  0.5]])"
      ]
     },
     "metadata": {},
     "output_type": "display_data"
    }
   ],
   "source": [
    "0.7*rho_minus + 0.3*rho_plus"
   ]
  },
  {
   "cell_type": "markdown",
   "metadata": {},
   "source": [
    "#### ACTIVITY 1: validate density matrices (10 min)\n",
    "\n",
    "Write a function that verifies if a given matrix is a valid density matrix by checking if the three properties of hermitian matrices are satisfied. The signature should be `f(array[complex]) -> bool`. You can use the template below.\n"
   ]
  },
  {
   "cell_type": "code",
   "execution_count": null,
   "metadata": {},
   "outputs": [],
   "source": [
    "def validate_density_matrix(rho: np.array) -> bool:\n",
    "    \"\"\"\n",
    "    This function verifies that a given (square) matrix is a valid density matrix.\n",
    "    To do so, it checks the properties:\n",
    "    \n",
    "    1. Trace 1\n",
    "    2. Hermitian\n",
    "    3. Positive semidefinite\n",
    "    \n",
    "    Arguments:\n",
    "        rho (np.array): the matrix to verify\n",
    "        \n",
    "    Returns:\n",
    "        (bool): True if rho is a density matrix, False otherwise\n",
    "    \"\"\"\n",
    "    \n",
    "    trace1 = np.isclose(np.einsum('aa', rho), 1.0)\n",
    "    \n",
    "    hermitian = np.allclose(rho, np.einsum('ab->ba', rho).conj())\n",
    "    \n",
    "    psd = all(np.linalg.eigvalsh(rho) >= 0.0)\n",
    "    \n",
    "    return trace1 and hermitian and psd\n",
    "    \n",
    "    "
   ]
  },
  {
   "cell_type": "code",
   "execution_count": null,
   "metadata": {},
   "outputs": [
    {
     "data": {
      "text/plain": [
       "True"
      ]
     },
     "metadata": {},
     "output_type": "display_data"
    }
   ],
   "source": [
    "validate_density_matrix(0.7*rho_minus + 0.3*rho_plus)"
   ]
  },
  {
   "cell_type": "markdown",
   "metadata": {},
   "source": [
    "#### ACTIVITY 2: random density matrix (5 min)\n",
    "Using `np.einsum` write a function that generates random pure density matrix states $|\\psi\\rangle\\langle\\psi|$ from random pure states $|\\psi\\rangle=\\alpha|0\\rangle+\\beta|1\\rangle$. Use it to make another function that generates random _mixed_ density matrices."
   ]
  },
  {
   "cell_type": "code",
   "execution_count": null,
   "metadata": {},
   "outputs": [],
   "source": [
    "def random_pure_dm():\n",
    "    \n",
    "    ket = random_state(2)\n",
    "    \n",
    "    return np.einsum('a,b', ket, ket.conj())\n",
    "\n",
    "\n",
    "def random_mixed_dm():\n",
    "    \n",
    "    dm1 = random_pure_dm()\n",
    "    dm2 = random_pure_dm()\n",
    "    \n",
    "    p1,p2 = np.random.rand(2)\n",
    "    \n",
    "    p1 = p1/(p1+p2)\n",
    "    p2 = p2/(p1+p2)\n",
    "    \n",
    "    return dm1*p1 + dm2*p2"
   ]
  },
  {
   "cell_type": "markdown",
   "metadata": {},
   "source": [
    "#### DEBRIEFING \n",
    "First of all, notice that the diagonal of a density matrix is always a probability distribution. Why is that? When you write a density matrix you are picking a basis (as you always do when you write a matrix explicitly). In our case it is the computational basis, and so the diagonal contains the probability for measuring the two computational states:\n",
    "\n",
    "$$P(0) = \\langle 0|\\rho|0\\rangle = (1,0)\\begin{pmatrix}a & b\\\\ c & d\\end{pmatrix}{1\\choose 0} = a$$ and $$P(1) = \\langle 1|\\rho|1\\rangle = (0,1)\\begin{pmatrix}a & b\\\\ c & d\\end{pmatrix}{0\\choose 1} = d$$ so as the events of measuring 0 and measuring 1 are independent, $a+d$ must be 1.\n",
    "\n",
    "A more general and formal way to see it is by using the new Born rule:\n",
    "\n",
    "$$1 = \\sum_iP(i) = \\sum_i\\langle i|\\rho|i\\rangle = \\sum_i\\mathrm{Tr}(|i\\rangle\\langle i|\\rho)= \\mathrm{Tr}(\\sum_i|i\\rangle\\langle i|\\rho) = \\mathrm{Tr}(\\rho)$$ \n",
    "\n",
    "The last step holds because by summing all the projectors of the basis elements we obtain the identity matrix: $\\sum_i|i\\rangle\\langle i| = \\mathbb{1}$."
   ]
  },
  {
   "cell_type": "markdown",
   "metadata": {},
   "source": [
    "The off-diagonal elements indicate that there is \"_quantum coherence_\" between different basis states. For example, classical states cannot be in a superposition and in fact we can describe them with a probability distribution: the distribution on the diagonal. Quantum states on the other hand are more rich than classical states and we can see this because there are nonzero off-diagonal values. So we expect that the more classical uncertainty we include in the quantum state, the smaller the off-diagonal elements will be."
   ]
  },
  {
   "cell_type": "markdown",
   "metadata": {},
   "source": [
    "#### ACTIVITY 3: maximally mixed states (10 min)\n",
    "Compute the quantum state of a qubit that could be in the state $|0\\rangle\\langle 0|$ or $|1\\rangle\\langle 1|$ with equal probability\n",
    "\n",
    "Compute the quantum state of a qubit that could be in the state $|+\\rangle\\langle +|$ or $|-\\rangle\\langle -|$ with equal probability\n",
    "\n",
    "What do you notice about these two states? How do you explain it? Discuss in your group, then we will share all together."
   ]
  },
  {
   "cell_type": "code",
   "execution_count": null,
   "metadata": {},
   "outputs": [],
   "source": [
    "zero = np.array([1,0])\n",
    "one = np.array([0,1])\n",
    "plus = np.array([1,1])/np.sqrt(2)\n",
    "minus = np.array([1,-1])/np.sqrt(2)"
   ]
  },
  {
   "cell_type": "code",
   "execution_count": null,
   "metadata": {},
   "outputs": [
    {
     "data": {
      "text/plain": [
       "array([[0.5, 0. ],\n",
       "       [0. , 0.5]])"
      ]
     },
     "metadata": {},
     "output_type": "display_data"
    }
   ],
   "source": [
    "np.einsum('a,b',zero, zero.conj())*0.5 + np.einsum('a,b',one, one.conj())*0.5"
   ]
  },
  {
   "cell_type": "code",
   "execution_count": null,
   "metadata": {},
   "outputs": [
    {
     "data": {
      "text/plain": [
       "array([[0.5, 0. ],\n",
       "       [0. , 0.5]])"
      ]
     },
     "metadata": {},
     "output_type": "display_data"
    }
   ],
   "source": [
    "np.einsum('a,b',plus, plus.conj())*0.5 + np.einsum('a,b',minus, minus.conj())*0.5"
   ]
  },
  {
   "cell_type": "code",
   "execution_count": null,
   "metadata": {},
   "outputs": [],
   "source": []
  },
  {
   "cell_type": "code",
   "execution_count": null,
   "metadata": {},
   "outputs": [],
   "source": []
  }
 ],
 "metadata": {
  "language_info": {
   "name": "python"
  }
 },
 "nbformat": 4,
 "nbformat_minor": 2
}
