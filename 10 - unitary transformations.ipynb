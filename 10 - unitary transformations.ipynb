{
 "cells": [
  {
   "cell_type": "markdown",
   "metadata": {},
   "source": [
    "![img](https://licensebuttons.net/l/by-nc-sa/3.0/88x31.png) Filippo Miatto (2020) "
   ]
  },
  {
   "cell_type": "markdown",
   "metadata": {},
   "source": [
    "## 1. Unitary operators as matrix exponentials\n",
    "\n",
    "The idea here is to have a _parametrized_ unitary $U(\\epsilon)$, where the parameter $\\epsilon$ regulates the \"amount of transformation\", so that if $\\epsilon=0$ we have the identity matrix $U(0) = \\mathbb{1}$. Not only that, but our clever definitions make transformations into a group: $U(\\epsilon_2)U(\\epsilon_1) = U(\\epsilon_1+\\epsilon_2)$ (obviously they have to be transformations of the same kind for this to hold!). So let's see how we can make this happen.\n",
    "\n",
    "### 1.1 Exponential form of a 1-parameter unitary\n",
    "The formula that we are going to use is in terms of the matrix exponential:\n",
    "\n",
    "$$\n",
    "U(\\epsilon) = \\exp(i\\epsilon M)\n",
    "$$\n",
    "\n",
    "where $M$ is some Hermitian matrix, called the \"_generator_\" of the transformation (we will learn a great deal about generators). This is a simple way of parametrizing a unitary transformation. Don't be misguided by the similarity with the complex phase $e^{i\\epsilon}$: although the matrix exponential is related to complex phases, $\\epsilon$ should not be thought of as an angle. It is if the generator has integer eigenvalues, but it's not an angle in general, which means that in general $U(2\\pi)\\neq\\mathbb{1}$ or even that $U(\\epsilon)=\\mathbb{1}$ only for $\\epsilon = 0$.\n",
    "\n",
    "We can justify the exponential formula by looking at the spectrum: the spectrum of $M$ is made of real numbers, which implies that the spectrum of $\\exp(i\\epsilon M)$ (for real $\\epsilon$), must be on the unit circle of the complex plane, just like the spectrum of a unitary matrix.\n",
    "\n",
    "### 1.2 Computing a 1-parameter unitary\n",
    "How do we compute the exponential of a matrix? A way of thinking about it is via the Taylor series of the exponential:\n",
    "\n",
    "$$\n",
    "\\exp(A) = \\sum_{k=0}^\\infty \\frac{A^k}{k!}\n",
    "$$\n",
    "\n",
    "In this expression, $A^k$ is the matrix $A$ multiplied by itself $k$ times ($A\\cdot A\\cdot\\dots\\cdot A$), which is NOT the matrix obtained by raising each matrix element to the $k$-th power! This implies that $\\exp(A)$ is not obtained by taking the exponential of each matrix element. Be careful with this, because if you write `np.exp(A)`, numpy will compute the exponential of each element, which is NOT what we want! The function we want is `scipy.linalg.expm`.\n",
    "\n",
    "Although the Taylor series is a mathematically legitimate way of representing the matrix exponential, it's not computationally sound because we would need a loooot of terms before the series converges. The easiest approach is to exploit the fact that for a diagonal matrix $D$ it is true that $\\exp(D)$ is simply the exponential of the elements on the diagonal. So if we diagonalize $A$ we can write \n",
    "\n",
    "$$\n",
    "\\exp(A) = \\exp(V^\\dagger D V) = \\sum_{k=0}^\\infty \\frac{(V^\\dagger D V)^k}{k!} = \\sum_{k=0}^\\infty \\frac{V^\\dagger D^k V}{k!} = V^\\dagger\\sum_{k=0}^\\infty \\frac{D^k}{k!}V = V^\\dagger\\exp(D)V\n",
    "$$\n",
    "\n",
    "---\n",
    "#### Activity 1: Matrix Exponentials (10 minutes)\n",
    "Let's use the same Hermitian matrix that we used in lecture 2:\n",
    "$$\n",
    "M = \n",
    "\\begin{pmatrix}\n",
    "1 & 2 & 3 & 4\\\\\n",
    "2 & 0 & 2i & 5\\\\\n",
    "3 & -2i & -1 & 0\\\\\n",
    "4 & 5 & 0 & 0\n",
    "\\end{pmatrix}\n",
    "$$\n",
    "\n",
    "1. Verify that the formula $V^\\dagger\\exp(D)V$ gives the same result as `scipy.linalg.expm`. Use `numpy.linalg.eig` to obtain the eigendecomposition (it returns the diagonal of $D$ and $V^\\dagger$).\n",
    "---"
   ]
  },
  {
   "cell_type": "code",
   "execution_count": null,
   "metadata": {},
   "outputs": [],
   "source": [
    "M = np.array([\n",
    "    [1,2,3,4],\n",
    "    [2,0,2j,5],\n",
    "    [3,-2j,-1,0],\n",
    "    [4,5,0,0]\n",
    "])\n",
    "\n",
    "exp_M = expm(M)"
   ]
  },
  {
   "cell_type": "code",
   "execution_count": null,
   "metadata": {},
   "outputs": [],
   "source": [
    "from numpy.linalg import eig"
   ]
  },
  {
   "cell_type": "code",
   "execution_count": null,
   "metadata": {},
   "outputs": [],
   "source": [
    "d, Vdagger = eig(M)"
   ]
  },
  {
   "cell_type": "code",
   "execution_count": null,
   "metadata": {},
   "outputs": [],
   "source": [
    "VdV = Vdagger@np.diag(np.exp(d))@np.conj(Vdagger.T)"
   ]
  },
  {
   "cell_type": "code",
   "execution_count": null,
   "metadata": {},
   "outputs": [],
   "source": [
    "np.linalg.norm(exp_M - VdV)"
   ]
  },
  {
   "cell_type": "code",
   "execution_count": null,
   "metadata": {},
   "outputs": [],
   "source": [
    "np.allclose(exp_M, VdV)"
   ]
  },
  {
   "cell_type": "code",
   "execution_count": null,
   "metadata": {},
   "outputs": [],
   "source": []
  }
 ],
 "metadata": {
  "language_info": {
   "name": "python"
  }
 },
 "nbformat": 4,
 "nbformat_minor": 2
}
