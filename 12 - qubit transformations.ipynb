{
 "cells": [
  {
   "cell_type": "markdown",
   "metadata": {},
   "source": [
    "![img](https://licensebuttons.net/l/by-nc-sa/3.0/88x31.png) Filippo Miatto (2020) "
   ]
  },
  {
   "cell_type": "markdown",
   "metadata": {},
   "source": [
    "## 3. Qubit transformations\n",
    "\n",
    "We now apply these ideas to qubits, i.e. the states are 2-dimensional and all the matrices (Hermitian, Unitary etc..) are $2\\times 2$. Again, we will see that thanks to the small dimensionality of the system, we can solve everything analytically.\n",
    "\n",
    "### 3.1 Pauli operators and qubit rotations\n",
    "\n",
    "In Lecture 1 you experimented with qubit states and modified them \"manually\" to make them rotate around the Bloch sphere. Now we will construct the unitary transformations that can do that for you. In any case, we expect these unitary transformations to be in the form $U(\\epsilon) = \\exp(i\\epsilon M)$ for some $2\\times 2$ matrix $M$, so the real question is: what is $M$? Let's start from the most intuitive one: if we want to induce a _phase_ difference between the two canonical basis states $|0\\rangle$ and $|1\\rangle$, what should we do? An example could be to phase-shift $|0\\rangle$ in one direction, i.e. $e^{i\\epsilon}|0\\rangle$ and phase shift $|1\\rangle$ in the opposite direction, i.e. $e^{-i\\epsilon}|1\\rangle$.\n",
    "\n",
    "Since $|0\\rangle$ and $|1\\rangle$ are the basis elements of the canonical basis, we can do this with a diagonal matrix:\n",
    "\n",
    "$$U(\\epsilon)=\\begin{pmatrix}e^{i\\epsilon}&0\\\\0&e^{-i\\epsilon}\\end{pmatrix}= e^{i\\frac{\\phi}{2}}|0\\rangle\\langle 0| + e^{-i\\frac{\\phi}{2}}|1\\rangle\\langle 1|$$\n",
    "\n",
    "This is given in exponential form $\\exp(i\\epsilon \\sigma_z)$ by defining \n",
    "\n",
    "$$\\sigma_z=\\begin{pmatrix}1&0\\\\0&-1\\end{pmatrix}$$\n",
    "\n",
    "The reason why we called the matrix $\\sigma_z$ will be clear in a moment. The transformation $U(\\epsilon)$ is clearly periodic with period $\\epsilon = \\pi$, so in order to use an actual angle we define the variable $\\phi = 2\\epsilon$ and reparametrize:\n",
    "\n",
    "$$\n",
    "U_z(\\phi) = \\exp\\left(i\\frac{\\phi}{2}\\sigma_z\\right) \n",
    "$$\n",
    "\n",
    "The reason why we are using the little $z$ is because when we apply the transformation $U_z(\\phi)$ to a qubit state $|\\psi\\rangle = \\alpha|0\\rangle + \\beta|1\\rangle$, we rotate it around the $z$ axis of the Bloch sphere by an angle $\\phi$! Notice that the $z$ axis connects the North pole of the Block sphere to the South pole, i.e. the states $|0\\rangle$ and $|1\\rangle$. This is not a coincidence: if we use the basis $\\{|v_0\\rangle, |v_1\\rangle\\}$ to define a transformation :\n",
    "\n",
    "$$U(\\phi) = e^{i\\frac{\\phi}{2}}|v_0\\rangle\\langle v_0| + e^{-i\\frac{\\phi}{2}}|v_1\\rangle\\langle v_1|$$\n",
    "\n",
    "such transformation rotates the qubit around the axis defined by the basis $\\{|v_0\\rangle, |v_1\\rangle\\}$ by an angle $\\phi$ (recall that orthogonal states are _opposite points_ on the Bloch sphere, so they always define an axis). As examples of alternative rotations, we can write the rotations around the $x$ axis and around the $y$ axis. For these, we need the basis that identifies the two opposite points on the $x$ axis: $\\{|+\\rangle, |-\\rangle\\}$ where $|\\pm\\rangle = (|0\\rangle\\pm|1\\rangle)/\\sqrt{2}$ and the basis that identifies the two opposite points on the $y$ axis: $\\{|R\\rangle, |L\\rangle\\}$ where $|R/L\\rangle = (|0\\rangle\\pm i|1\\rangle)/\\sqrt{2}$.\n",
    "The generators of the rotations around the $x$ and $y$ axes, expressed in the canonical basis are:\n",
    "\n",
    "$$\n",
    "\\sigma_x = \\begin{pmatrix}0&1\\\\1&0\\end{pmatrix}\\\\\n",
    "\\sigma_y = \\begin{pmatrix}0&-i\\\\i&0\\end{pmatrix}\n",
    "$$\n",
    "\n",
    "which together with $\\sigma_z$ are the famous \"_Pauli matrices_\". So the Pauli matrices are the generators of rotations around the axes of the Bloch sphere. Any unitary qubit transformation can be decomposed into rotations around the $x$, $y$, $z$ axes. More interestingly, for any unitary qubit transformation there exists an axis (i.e. a basis) which implements it directly (this is related to the group theory of $SU(2)$ and $SO(3)$).\n",
    "\n",
    "---\n",
    "#### Activity 3: qubit rotations (15 min, pen and paper!)\n",
    "Using the definitions of the bases and the formula $U(\\phi) = e^{i\\frac{\\phi}{2}}|v_0\\rangle\\langle v_0| + e^{-i\\frac{\\phi}{2}}|v_1\\rangle\\langle v_1|$, write the transformations $U_x(\\phi)$ and $U_y(\\phi)$ explicitly in matrix form.\n",
    "\n",
    "---\n",
    "#### Activity 4: qubit rotations (20 min, coding!)\n",
    "1. Write 3 functions that take an angle $\\phi$ and return the three unitary transformations $U_x(\\phi)$, $U_y(\\phi)$ and $U_z(\\phi)$. The signature should be `f(float)->np.array(complex)`\n",
    "2. Test the functions using a `qutip.Bloch()` sphere object: start with the state $|0\\rangle$, rotate it by $\\pi/2$ around the $y$ axis, then by $-\\pi/2$ around the $z$ axis and then by $-\\pi/2$ around the $x$ axis. You should find yourself back up on the North pole. Visualize these transformations on the Bloch sphere by making little steps.\n",
    "\n",
    "NOTE: _The Pauli operators are conjugate to the angle $\\phi$, so they are Observables of **angular momentum**._"
   ]
  },
  {
   "cell_type": "code",
   "execution_count": null,
   "metadata": {},
   "outputs": [],
   "source": [
    "def Ux(phi):\n",
    "    Jx = np.array([[0.0,1.0],[1.0,0.0]])\n",
    "    return expm(1j*phi/2*Jx)\n",
    "\n",
    "def Uy(phi):\n",
    "    Jy = np.array([[0.0,-1j],[1j,0.0]])\n",
    "    return expm(1j*phi/2*Jy)\n",
    "\n",
    "def Uz(phi):\n",
    "    Jz = np.array([[1.0,0.0],[0.0,-1.0]])\n",
    "    return expm(1j*phi/2*Jz)"
   ]
  },
  {
   "cell_type": "code",
   "execution_count": null,
   "metadata": {},
   "outputs": [],
   "source": [
    "sphere = Bloch()"
   ]
  },
  {
   "cell_type": "code",
   "execution_count": null,
   "metadata": {},
   "outputs": [],
   "source": [
    "north_pole = np.array([1.0,0.0])"
   ]
  },
  {
   "cell_type": "code",
   "execution_count": null,
   "metadata": {},
   "outputs": [],
   "source": [
    "sphere.clear()\n",
    "path1 = [Qobj(Uy(phi)@north_pole) for phi in np.linspace(0,-np.pi/2,10)]\n",
    "sphere.add_states(path1)\n",
    "\n",
    "path2 = [Qobj(Uz(phi)@(Uy(-np.pi/2)@north_pole)) for phi in np.linspace(0,-np.pi/2,10)]\n",
    "sphere.add_states(path2)\n",
    "\n",
    "path3 = [Qobj(Ux(phi)@(Uz(-np.pi/2)@Uy(-np.pi/2)@north_pole)) for phi in np.linspace(0,-np.pi/2,10)]\n",
    "sphere.add_states(path3)"
   ]
  },
  {
   "cell_type": "code",
   "execution_count": null,
   "metadata": {},
   "outputs": [],
   "source": [
    "sphere.show()"
   ]
  }
 ],
 "metadata": {
  "language_info": {
   "name": "python"
  }
 },
 "nbformat": 4,
 "nbformat_minor": 2
}
