{
 "cells": [
  {
   "cell_type": "code",
   "execution_count": null,
   "metadata": {},
   "outputs": [],
   "source": []
  },
  {
   "cell_type": "markdown",
   "metadata": {},
   "source": [
    "# 2. Entanglement\n",
    "The time has come to talk about entanglement! To do this we need to introduce two ideas:\n",
    "1. The joint state of two systems\n",
    "2. How to \"discard\" a system\n",
    "\n",
    "## 2.1 State of multiple systems\n",
    "If we have a system $A$ with Hilbert space $\\mathcal{H}_A$ and a system $B$ with Hilbert space $\\mathcal{H}_B$, we can describe them as a single larger system $S$ with Hilbert space $\\mathcal{H} = \\mathcal{H}_A\\otimes\\mathcal{H}_B$.\n",
    "\n",
    "What are the states in $\\mathcal{H}$? Well, $\\mathcal{H}$ is a Hilbert space, so we need to write the vectors in it in terms of some basis. A very simple way to write a basis for $\\mathcal{H}$ is to combine a basis of $\\mathcal{H}_A$ and a basis of $\\mathcal{H}_B$:\n",
    "\n",
    "$$\n",
    "|i,j\\rangle \\equiv |v_i\\rangle\\otimes|w_j\\rangle\n",
    "$$\n",
    "\n",
    "Then any quantum state in $\\mathcal{H}$ can be written as $\\sum_{ij}c_{ij}|i,j\\rangle$ with $\\sum_{ij}|c_{ij}|^2=1$.\n",
    "\n",
    "#### Example: 2 qubits<br>\n",
    "\n",
    "Basis for each qubit:\n",
    "$$\n",
    "\\{|0\\rangle_A, |1\\rangle_A\\}\\\\\n",
    "\\{|0\\rangle_B, |1\\rangle_B\\}\n",
    "$$\n",
    "\n",
    "Joint basis:\n",
    "$$\n",
    "\\{|0,0\\rangle_{AB}, |1,0\\rangle_{AB}, |0,1\\rangle_{AB}, |1,1\\rangle_{AB}\\}\n",
    "$$\n",
    "\n",
    "Notice that this joint basis allows us to write states that are more interesting than simply \"this state of A\" and \"this state of B\". For example, if $|\\psi\\rangle_A = (|0\\rangle+|1\\rangle)/\\sqrt{2}$ and $|\\phi\\rangle_B = (|0\\rangle-|1\\rangle)/\\sqrt{2}$ then\n",
    "\n",
    "$$|\\Psi\\rangle_{AB} = |\\psi\\rangle_A\\otimes|\\phi\\rangle_B = \\frac{|0,0\\rangle - |0,1\\rangle + |1,0\\rangle - |1,1\\rangle}{2}$$\n",
    "\n",
    "But the state $$|\\Psi\\rangle_{AB} = \\frac{|0,0\\rangle + |1,1\\rangle}{\\sqrt{2}}$$\n",
    "cannot be written as the tensor product of a state of $A$ and a state of $B$ (try if you can). This is a _new_ type of state that is more than just two states of $A$ and $B$ put together! This is what _entangled states_ are: they are states of composite systems that cannot be written as the product of a state for each subsystem.\n",
    "\n",
    "#### Activity 6: joint states (10 min)\n",
    "Using `np.einsum` write a function that takes two kets (one for subsystem $A$ and one for subsystem $B$) and returns their joint state. The signature should be `f(array[complex], array[complex]) -> array[complex]`. Note that if the two kets are vectors, the joint state must be a matrix (because it's the tensor product of two vectors). Don't confuse this matrix with the density operator."
   ]
  },
  {
   "cell_type": "code",
   "execution_count": null,
   "metadata": {},
   "outputs": [],
   "source": [
    "def joint_ket(ket1, ket2):\n",
    "    return np.einsum('a,b', ket1, ket2)"
   ]
  },
  {
   "cell_type": "markdown",
   "metadata": {},
   "source": [
    "## 2.2 How to discard a system\n",
    "What does it mean to \"discard\" a system? It means that we throw it away, i.e. that whatever it is, it doesn't affect expectation values or measurement results that we perform on the rest of the systems (the ones that we keep). Suppose that we have two systems $A$ and $B$ with state $|\\psi\\rangle_{AB} = \\sum_{ij}c_{ij}|v_i\\rangle_A\\otimes|w_j\\rangle_B$. We want to compute the probability to project subsystem $A$ on a vector $|v_i\\rangle \\in \\mathcal{H}_A$:\n",
    "\n",
    "$$\n",
    "P_i = \\sum_{j}P_{ij} = \\sum_{j}\\langle v_i,w_j|\\psi\\rangle\\langle \\psi|v_i,w_j\\rangle = \\langle v_i|\\left(\\sum_{j}\\langle w_j|\\psi\\rangle\\langle\\psi|w_j\\rangle\\right)|v_i\\rangle = \\langle v_i|\\rho_A|v_i\\rangle\n",
    "$$\n",
    "\n",
    "where $\\rho_A$ is called the \"reduced density matrix\" and it describes the quantum state of only the subsystem in $A$. To calculate it we take the \"partial trace\", i.e. we take inner products in the subspace $\\mathcal{H}_B$ with respect to any complete basis ($\\{|w_j\\rangle\\}$ in the example above.\n",
    "\n",
    "#### Example: 2 qubits<br>\n",
    "Let's compute the state of qubit $A$ starting from the joint state $|\\Psi\\rangle_{AB} =  \\frac{|0,0\\rangle - |0,1\\rangle - |1,0\\rangle+|1,1\\rangle}{2}$:\n",
    "\n",
    "$$\n",
    "\\begin{align}\n",
    "\\rho_A &= \\sum_{j=0}^1\\langle j|_B\\frac{|0,0\\rangle - |0,1\\rangle - |1,0\\rangle+|1,1\\rangle}{2}\\frac{\\langle 0,0| - \\langle 0,1| - \\langle 1,0|+\\langle 1,1|}{2}|j\\rangle_B\\\\\n",
    "&=\\langle 0|_B\\frac{|0,0\\rangle - |0,1\\rangle - |1,0\\rangle+|1,1\\rangle}{2}\\frac{\\langle 0,0| - \\langle 0,1| - \\langle 1,0|+\\langle 1,1|}{2}|0\\rangle_B+ \\langle 1|_B\\frac{|0,0\\rangle - |0,1\\rangle - |1,0\\rangle+|1,1\\rangle}{2}\\frac{\\langle 0,0| - \\langle 0,1| - \\langle 1,0|+\\langle 1,1|}{2}|1\\rangle_B\\\\\n",
    "&=\\frac{|0\\rangle - |1\\rangle}{2}\\frac{\\langle 0| - \\langle 1|}{2} + \\frac{- |0\\rangle +|1\\rangle}{2}\\frac{- \\langle 0| +\\langle 1|}{2}\\\\\n",
    "&=\\frac{|0\\rangle - |1\\rangle}{\\sqrt{2}}\\frac{\\langle 0| - \\langle 1|}{\\sqrt{2}}\\\\\n",
    "&=|-\\rangle \\langle -|\n",
    "\\end{align}\n",
    "$$\n",
    "\n",
    "which means that the reduced density matrix of subsystem $A$ is $\\rho_A = |-\\rangle \\langle -|$. This is a projector, therefore subsystem $A$ is in a pure state, which we might also describe using the ket $|-\\rangle_A$. We could have reached the same result much more rapidly by using the $\\{|+\\rangle, |-\\rangle\\}$ basis when computing the partial trace over $B$: $|\\Psi\\rangle_{AB} = |-\\rangle_A\\otimes|-\\rangle_B$, therefore\n",
    "\n",
    "$$\n",
    "\\begin{align}\n",
    "\\rho_A &= \\sum_{j\\in\\{+,-\\}}\\langle j|_B\\bigl(|-,-\\rangle\\langle -,-|_{AB}\\bigr)|j\\rangle_B = |-\\rangle\\langle-|_A\\\\\n",
    "\\end{align}\n",
    "$$\n",
    "\n",
    "Okay, what about an entangled state?\n",
    "$$\n",
    "\\begin{align}\n",
    "\\rho_A &= \\sum_{j=0}^1\\langle j|_B\\frac{|0,0\\rangle + |1,1\\rangle}{\\sqrt 2}\\frac{\\langle 0,0| +\\langle 1,1|}{\\sqrt 2}|j\\rangle_B\\\\\n",
    "&=\\langle 0|_B\\frac{|0,0\\rangle + |1,1\\rangle}{\\sqrt 2}\\frac{\\langle 0,0| +\\langle 1,1|}{\\sqrt 2}|0\\rangle_B+ \\langle 1|_B\\frac{|0,0\\rangle + |1,1\\rangle}{\\sqrt 2}\\frac{\\langle 0,0| +\\langle 1,1|}{\\sqrt 2}|1\\rangle_B\\\\\n",
    "&=\\frac{|0\\rangle\\langle 0|}{2} + \\frac{|1\\rangle\\langle 1|}{2} = \\frac{1}{2}I\n",
    "\\end{align}\n",
    "$$\n",
    "\n",
    "This state cannot be written as the outer product of two kets. This means that there is no ket which individually describes subsystem $A$. Subsystem $A$ (and $B$ if you trace over $A$) is in a mixed state. This is also a rule for entanglement: if you have a pure state of two systems $A$ and $B$ and after tracing over one of them the other is in a mixed state, then the initial state of $A$ and $B$ was entangled.\n",
    "\n",
    "#### Activity 7: partial trace (10 min)\n",
    "Write a function using `np.einsum` that takes a pure state of two systems (which is going to be a matrix) and it returns the reduced density operator of one of them (use a second integer argument to decide which subsystem to keep. The signature should be `f(array[complex], int) -> array[complex]`."
   ]
  },
  {
   "cell_type": "code",
   "execution_count": null,
   "metadata": {},
   "outputs": [],
   "source": []
  },
  {
   "cell_type": "markdown",
   "metadata": {},
   "source": [
    "## 2.3 Measuring Entanglement \n",
    "If there is no entanglement in the state $|\\Psi\\rangle$, the reduced density matrix is a projector. So its purity is 1. On the other hand, the more the initial state was entangled the less pure the reduced density operator is. So purity is an indicator of the entanglement in the initial state. There are many types of indicators, some are more useful than others, each one tells us something slightly different. The most important one is called the entropy of entanglement: after computing the reduced density operator $\\rho_A$, we calculate its spectrum (which is going to be a probability distribution) and then we calculate the entropy of this distribution. If the state was pure, the spectrum would be $\\{1,0,0,0,\\dots\\}$, which has entropy 0 (so zero entanglement). As the state gets more and more entangled the spectrum becomes a probability distribution that is more and more flat, which therefore has a higher entropy. The entropy of a uniform distribution is $\\log(D)$.\n",
    "\n",
    "I remind you that the entropy of a probability distribution is\n",
    "\n",
    "$$\n",
    "H(\\{p_i\\}) = -\\sum_ip_i\\log(p_i)\n",
    "$$\n",
    "\n",
    "And we indicate the entropy of the spectrum of an operator $\\rho_A$ as $H(\\rho_A)$.\n",
    "\n",
    "#### Activity 8: entanglement of random states (15 min)\n",
    "Write a function that computes the entanglement entropy of a bipartite pure state. The signature should be `f(array[complex]) -> float`. Then use our random state generator to generate random states in a $D^2$-dimensional space, reshape them to $D\\times D$ matrices (so that they are states of two systems of dimension $D$) and make a histogram of the entropy of these random states."
   ]
  },
  {
   "cell_type": "code",
   "execution_count": null,
   "metadata": {},
   "outputs": [],
   "source": []
  },
  {
   "cell_type": "markdown",
   "metadata": {},
   "source": [
    "## 2.4 Maximally entangled states\n",
    "\n",
    "Let's think of the state of two qubits. We have seen that entanglement can be zero, small or large. What's the largest it can be? The states that have the largest entanglement are called \"maximally entangled\" states. In the case of two qubits, these are also called the Bell states:\n",
    "\n",
    "$$\n",
    "\\begin{align}\n",
    "|\\phi^+\\rangle &= \\frac{|0,0\\rangle+|1,1\\rangle}{\\sqrt 2}\\\\\n",
    "|\\phi^-\\rangle &= \\frac{|0,0\\rangle-|1,1\\rangle}{\\sqrt 2}\\\\\n",
    "|\\psi^+\\rangle &= \\frac{|0,1\\rangle+|1,0\\rangle}{\\sqrt 2}\\\\\n",
    "|\\psi^-\\rangle &= \\frac{|0,1\\rangle-|1,0\\rangle}{\\sqrt 2}\n",
    "\\end{align}\n",
    "$$\n",
    "\n",
    "When tracing away one of the subsystems from a maximally entangled qubit state, we are always left with $\\frac12 I$, the maximally mixed state and consequently the entanglement entropy is 1 (i.e. $\\log(2)$).\n",
    "\n",
    "Let's think a bit about the meaning of entangled states. If we have for example the state $|\\psi^-\\rangle$ and we measure 0 in one qubit we have the promise that the other one will be 1. Same for the result 1: we would know that the other is 0. But there is no way to determine in advance if we were to get 0 or 1. Now imagine that the two subsystems are at opposite edges of our Galaxy. How does one state know what result the other gave? And yet it works. Note that this is not the same as having for example a pair of gloves, putting them in two boxes at opposite edges of the Galaxy and then wondering how did one glove know to be the left one if the other is the right one or vice versa: it's not the same thing because in a classical measurement we have only one basis, so we can set things up so that they work! \n",
    "\n",
    "I chose $|\\psi^-\\rangle$ for this example because it has a nice property: no matter what measurement basis we pick, as long as it's the same for the two subsystems, $|\\psi^-\\rangle$ will always give us opposite results. Now the question becomes really spooky, because _how does one qubit know_ what basis we chose for the measurement of the other in order to give us the opposite result in case we use the same basis again?? This is what entanglement is: it's a promise. In this case  (for $|\\psi^-\\rangle$) it's the promise that the measurement results will be opposite to each other, no matter what basis we choose. This is more strange the more you think about it, but this is the way quantum mechanics is!"
   ]
  },
  {
   "cell_type": "code",
   "execution_count": null,
   "metadata": {},
   "outputs": [],
   "source": []
  },
  {
   "cell_type": "markdown",
   "metadata": {},
   "source": [
    "# 2. Entanglement\n",
    "The time has come to talk about entanglement! To do this we need to introduce two ideas:\n",
    "1. The joint state of two systems\n",
    "2. How to \"discard\" a system\n",
    "\n",
    "## 2.1 State of multiple systems\n",
    "If we have a system $A$ with Hilbert space $\\mathcal{H}_A$ and a system $B$ with Hilbert space $\\mathcal{H}_B$, we can describe them as a single larger system $S$ with Hilbert space $\\mathcal{H} = \\mathcal{H}_A\\otimes\\mathcal{H}_B$.\n",
    "\n",
    "What are the states in $\\mathcal{H}$? Well, $\\mathcal{H}$ is a Hilbert space, so we need to write the vectors in it in terms of some basis. A very simple way to write a basis for $\\mathcal{H}$ is to combine a basis of $\\mathcal{H}_A$ and a basis of $\\mathcal{H}_B$:\n",
    "\n",
    "$$\n",
    "|i,j\\rangle \\equiv |v_i\\rangle\\otimes|w_j\\rangle\n",
    "$$\n",
    "\n",
    "Then any quantum state in $\\mathcal{H}$ can be written as $\\sum_{ij}c_{ij}|i,j\\rangle$ with $\\sum_{ij}|c_{ij}|^2=1$.\n",
    "\n",
    "#### Example: 2 qubits<br>\n",
    "\n",
    "Basis for each qubit:\n",
    "$$\n",
    "\\{|0\\rangle_A, |1\\rangle_A\\}\\\\\n",
    "\\{|0\\rangle_B, |1\\rangle_B\\}\n",
    "$$\n",
    "\n",
    "Joint basis:\n",
    "$$\n",
    "\\{|0,0\\rangle_{AB}, |1,0\\rangle_{AB}, |0,1\\rangle_{AB}, |1,1\\rangle_{AB}\\}\n",
    "$$\n",
    "\n",
    "Notice that this joint basis allows us to write states that are more interesting than simply \"this state of A\" and \"this state of B\". For example, if $|\\psi\\rangle_A = (|0\\rangle+|1\\rangle)/\\sqrt{2}$ and $|\\phi\\rangle_B = (|0\\rangle-|1\\rangle)/\\sqrt{2}$ then\n",
    "\n",
    "$$|\\Psi\\rangle_{AB} = |\\psi\\rangle_A\\otimes|\\phi\\rangle_B = \\frac{|0,0\\rangle - |0,1\\rangle + |1,0\\rangle - |1,1\\rangle}{2}$$\n",
    "\n",
    "But the state $$|\\Psi\\rangle_{AB} = \\frac{|0,0\\rangle + |1,1\\rangle}{\\sqrt{2}}$$\n",
    "cannot be written as the tensor product of a state of $A$ and a state of $B$ (try if you can). This is a _new_ type of state that is more than just two states of $A$ and $B$ put together! This is what _entangled states_ are: they are states of composite systems that cannot be written as the product of a state for each subsystem.\n",
    "\n",
    "#### Activity 6: joint states (10 min)\n",
    "Using `np.einsum` write a function that takes two kets (one for subsystem $A$ and one for subsystem $B$) and returns their joint state. The signature should be `f(array[complex], array[complex]) -> array[complex]`. Note that if the two kets are vectors, the joint state must be a matrix (because it's the tensor product of two vectors). Don't confuse this matrix with the density operator."
   ]
  },
  {
   "cell_type": "code",
   "execution_count": null,
   "metadata": {},
   "outputs": [
    {
     "data": {
      "text/plain": [
       "True"
      ]
     },
     "metadata": {},
     "output_type": "display_data"
    }
   ],
   "source": [
    "validate_density_matrix(0.7*rho_minus + 0.3*rho_plus)"
   ]
  }
 ],
 "metadata": {
  "language_info": {
   "name": "python"
  }
 },
 "nbformat": 4,
 "nbformat_minor": 2
}
