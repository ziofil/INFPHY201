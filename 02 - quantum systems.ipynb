{
 "cells": [
  {
   "cell_type": "markdown",
   "metadata": {},
   "source": [
    "![img](https://licensebuttons.net/l/by-nc-sa/3.0/88x31.png) Filippo Miatto (2024) "
   ]
  },
  {
   "cell_type": "markdown",
   "metadata": {},
   "source": [
    "## 2. Quantum systems and their properties\n",
    "Quantum systems are usually very tiny objects (electrons, atoms, photons, etc...). This is because objects behave according to quantum mechanics when they are extremely simple and isolated and as they grow in size we lose track of the degrees of freedom that are needed to describe them quantum mechanically. The state of a quantum system is a mathematical object that allows us to make predictions, such as \"what will be the result of this measurement?\", or \"how will the state change if I apply this transformation?\", or \"how similar are these systems?\" and so on.\n",
    "\n",
    "### 2.1 Properties $\\leftrightarrow$ Hilbert spaces\n",
    "**Axiom 1: To each independent property of a system we associate a Hilbert space.**\n",
    "\n",
    "Once we use enough Hilbert spaces to cover all of the properties of a system, we can say that we have a complete description of this system. We describe a property by specifying a vector in the Hilbert space.\n",
    "\n",
    "NOTE: _Often we will refer to this vector as the state of the system even though we are actually talking about just one of its properties. This is okay as it's also done in everyday language ('the cat is black' is an acceptable sentence to describe a cat even if it doesn't specify its weight, its position, etc...)._\n",
    "\n",
    "The dimension of a Hilbert space equals the number of _perfectly distinguishable values_ that the property can have. \n",
    "\n",
    "NOTE: _This is where we begin noticing a difference between classical physics and quantum physics: in classical physics the values of a property are always distinguishable (i.e. a chair is either here or over there, and we can know where it is by looking at it), but in quantum physics the values of a property may not be always distinguishable from each other. To fully understand this we will need the Born rule (Lecure 2), so for the time being hold on to this thought._\n",
    "\n",
    "We said that a quantum state is represented by a vector in a Hilbert space. However, not every vector in $\\mathbb{C}^n$ is a valid quantum state. Quantum states are only the vectors of norm 1: $|\\psi\\rangle$ is a quantum state iff $\\langle\\psi|\\psi\\rangle = 1$.\n",
    "For reasons that will become clear in Lecture 2 when we introduce measurements, we can define a set of \"perfectly distinguishable\" states by using an orthonormal basis on the Hilbert space. For example, we can describe the spin of an electron (which has two perfectly distinguishable values) within the Hilbert space $\\mathbb{C}^2$, using the basis $\\binom{1}{0}$ and $\\binom{0}{1}$ to indicate two distinguishable states such as the spin pointing in two opposite directions.\n",
    "\n",
    "We will indicate each element of the standard basis in Dirac's notation simply by numbering the kets: $|0\\rangle, |1\\rangle, |2\\rangle, \\dots, |n-1\\rangle$."
   ]
  },
  {
   "cell_type": "markdown",
   "metadata": {},
   "source": [
    "#### Activity 4: normalize vectors and generate the canonical basis elements (10 min):\n",
    "- Write a function $normalize(\\mathbf{v})$ which takes a vector $\\mathbf{v}$ and normalizes it. The signature should be `f(array[complex]) -> array[complex]`.\n",
    "- Write a function $basis(dim, k)$ which returns the $k$-th standard basis element in a Hilbert space of dimension $dim$. The signature should be `f(int, int) -> array[complex]`."
   ]
  },
  {
   "cell_type": "code",
   "execution_count": null,
   "metadata": {},
   "outputs": [],
   "source": [
    "def normalize(v):\n",
    "    return v/np.linalg.norm(v)\n",
    "\n",
    "def basis(dim, k):\n",
    "    z = np.zeros(dim, dtype=np.complex64)\n",
    "    z[k] = 1.0 + 0.0j\n",
    "    return z\n",
    "\n",
    "def basis(dim, k): # alternative, but not as efficient\n",
    "    return np.identity(dim, dtype=np.complex64)[k] "
   ]
  },
  {
   "cell_type": "markdown",
   "metadata": {},
   "source": [
    "### 2.2 State superpositions\n",
    "A fundamental property of vector spaces is the possibility to take linear superpositions of vectors. This can be also done with quantum states, as they are vectors. This is one of the central features of QM, which definitely sets it apart from classical physics! But what does it mean for the values of a property to be in superposition?\n",
    "\n",
    "It means that in the quantum world there are many more \"_ways of being_\" than there are classically. In the classical world a cat is either dead or alive, but in the quantum world it can really be both at the same time, and not just both, there is an infinite number of ways of being both.\n",
    "\n",
    "The most general state of a property is a linear combination of all the elements associated to the canonical basis:\n",
    "\n",
    "$$\n",
    "|\\psi\\rangle = \\sum_{i=0}^{n-1}\\psi_i|i\\rangle \\quad\\leftrightarrow \\quad(\\psi_0, \\psi_1,\\dots,\\psi_{n-1})^T \\in \\mathbb{C}^n\n",
    "$$\n",
    "\n",
    "We call the complex numbers $\\psi_i$ the \"probabiliy amplitudes\" for a reason that will be clear in a moment.\n",
    "\n",
    "Obviously it must hold that $\\langle\\psi|\\psi\\rangle = 1$ otherwise $|\\psi\\rangle$ would not be state. At the level of amplitudes this implies:\n",
    "\n",
    "$$\n",
    "\\langle\\psi|\\psi\\rangle = \\sum_{i=0}^{n-1}\\psi_i^*\\psi_i = \\sum_{i=0}^{n-1}|\\psi_i|^2 = 1\n",
    "$$\n",
    "\n",
    "So we can interpret the set of real numbers $\\{|\\psi_i|^2\\}$ as a set of probabilities becasue they sum to 1. This is why the complex values $\\psi_i$ are called \"probabiliy amplitudes\": they are not exactly probabilities, but their squared absolute value is.\n",
    "\n",
    "There is a deeper reason why we talk about probabilities (not just that we have a bunch of numbers that sum to 1), but this has to wait for Lecture 2, when we will talk about measurements and the probabilities associated to the various outcomes.\n",
    "\n",
    "Some astute readers may be wondering what would happen if we used a different basis on the vector space. Surely the amplitudes would be different! And they would be correct: the set of amplitudes that characterize a quantum state depends on the basis used, and there is no \"right\" basis, just more or less convenient ones. We will understand the connection between different basis choices and the corresponding amplitudes once we introduce measurements."
   ]
  },
  {
   "cell_type": "markdown",
   "metadata": {},
   "source": [
    "#### Activity 5: state superpositions, random states (10 min)\n",
    "- Write a function $rand\\_state(d)$ that returns a random $d$-dimensional quantum state. The signature should be `rand_state(int) -> array[complex]`\n",
    "- Write a function $uniform\\_rand\\_state(d)$ that returns a random $d$-dimensional quantum state with a flat probability distribution (i.e. the absolute value squared of all its amplitudes is constant). The signature should be `f(int) -> array[complex]`\n",
    "\n",
    "We don't require fair sampling from the Haar measure here, just a utility function to return some random states."
   ]
  },
  {
   "cell_type": "code",
   "execution_count": null,
   "metadata": {},
   "outputs": [],
   "source": [
    "def rand_state(d: int):\n",
    "    x = np.random.normal(size=d)\n",
    "    y = np.random.normal(size=d)\n",
    "    return normalize(x + 1j*y)\n",
    "\n",
    "def uniform_rand_state(d: int): # a random state with constant probabilities\n",
    "    phases = np.exp(2*np.pi*1j*np.random.rand(d))\n",
    "    return normalize(phases)"
   ]
  }
 ],
 "metadata": {
  "language_info": {
   "name": "python"
  }
 },
 "nbformat": 4,
 "nbformat_minor": 2
}
