{
 "cells": [
  {
   "cell_type": "code",
   "execution_count": null,
   "metadata": {},
   "outputs": [],
   "source": [
    "from INFPHY201 import *"
   ]
  },
  {
   "cell_type": "markdown",
   "metadata": {},
   "source": [
    "# Lecture 5: Generalized measurements and tomography\n",
    "![img](https://licensebuttons.net/l/by-nc-sa/3.0/88x31.png) Filippo Miatto (2020) \n",
    "\n",
    "Welcome to Lecture 5!<br>\n",
    "After this lecture you will be able to:\n",
    "1. Construct generalized measurements from a measurement procedure\n",
    "2. Simulate the tomography of a qubit\n",
    "\n",
    "\n",
    "---\n",
    "***Recap of Lecture 4:***\n",
    "_In Lecture 4 we generalized the description of a quantum state to include uncertainty, by generalizing the Born rule. We saw that density operators can describe both pure states (i.e. those that could be described also by a ket) and mixed states. We then used this new description to describe bipartite entanglement._\n",
    "\n",
    "---\n",
    "***Preview of Lecture 5:***\n",
    "_Today we will generalize the Born rule from the point of view of Measurements. This allows us to describe realistic (i.e. non-ideal) measurements. This model of quantum measurements is the most general one available also to quantum mechanics researchers. We will put it into practice by simulating quantum tomography (i.e. finding out the state of a system by repeated measurements)._\n",
    "\n",
    "---"
   ]
  }
 ],
 "metadata": {
  "kernelspec": {
   "display_name": "Python 3",
   "language": "python",
   "name": "python3"
  },
  "language_info": {
   "codemirror_mode": {
    "name": "ipython",
    "version": 3
   },
   "file_extension": ".py",
   "mimetype": "text/x-python",
   "name": "python",
   "nbconvert_exporter": "python",
   "pygments_lexer": "ipython3",
   "version": "3.8.2"
  }
 },
 "nbformat": 4,
 "nbformat_minor": 4
}
