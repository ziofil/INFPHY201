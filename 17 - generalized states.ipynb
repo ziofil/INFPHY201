{
 "cells": [
  {
   "cell_type": "markdown",
   "metadata": {},
   "source": [
    "![img](https://licensebuttons.net/l/by-nc-sa/3.0/88x31.png) Filippo Miatto (2020) "
   ]
  },
  {
   "cell_type": "markdown",
   "metadata": {},
   "source": [
    "# Lecture 4: Generalized states and Entanglement\n",
    "![img](https://licensebuttons.net/l/by-nc-sa/3.0/88x31.png) Filippo Miatto (2020) \n",
    "\n",
    "Welcome to Lecture 4!<br>\n",
    "After this lecture you will be able to:\n",
    "1. Construct and use density matrices\n",
    "2. Interpret the _interior_ of the Bloch sphere\n",
    "3. Construct the joint quantum state of two or more quantum systems\n",
    "4. Compute the entanglement of a bipartite state\n",
    "\n",
    "---\n",
    "***Recap of Lecture 3:***\n",
    "_In Lecture 3 we saw how to model Transformations (the third pillar of QM) as Unitary operations, which don't change the length of complex vectors and therefore map quantum states to quanutm states. We then saw how to represent parametrized Unitary operations by using the matrix exponential of a Hermitian matrix. By using this method we saw that the action of a Unitary operator on a state written in the eigenbasis of the Hermitian operator was simply to rotate the phase at a rate proportional to the eigenvalue. We finally applied these ideas to rotate a qubit around the Bloch sphere and to model the time evolution of a particle in a square potential well._\n",
    "\n",
    "---\n",
    "***Preview of Lecture 4:***\n",
    "_Today we generalize the description of a quantum state to include uncertainty. This generalized description is the same one that is used in current quantum mechanics research. For example, if we toss a coin and depending on the result we produce state A or state B, what is the state of the system if you don't know the result of the coin toss? We will then use this new description of a quantum state to talk about Entanglement, i.e. quantum correlations. Entanglement when analyzed mathematically is a pretty simple concept, but when interpreted physically is very very strange and unusual!_"
   ]
  }
 ],
 "metadata": {
  "kernelspec": {
   "display_name": "Python 3",
   "language": "python",
   "name": "python3"
  },
  "language_info": {
   "codemirror_mode": {
    "name": "ipython",
    "version": 3
   },
   "file_extension": ".py",
   "mimetype": "text/x-python",
   "name": "python",
   "nbconvert_exporter": "python",
   "pygments_lexer": "ipython3",
   "version": "3.8.2"
  }
 },
 "nbformat": 4,
 "nbformat_minor": 4
}
