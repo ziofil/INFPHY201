{
 "cells": [
  {
   "cell_type": "markdown",
   "metadata": {},
   "source": [
    "# Quantum Mechanics in Python\n",
    "\n",
    "This is a course on quantum mechanics aimed at people with some python coding experience.\n",
    "It will be very helpful to have some familiarity with linear algebra and complex numbers.\n",
    "I recommend you do not skip the exercises and go through the lectures in order, as they guide you\n",
    "through the process of building your own quantum mechanics simulator.\n",
    "\n",
    "New lectures may be added in the future.\n",
    "\n",
    "Have fun :)"
   ]
  },
  {
   "cell_type": "markdown",
   "metadata": {},
   "source": [
    "Quantum Mechanics is a theory that describes the most fundamental building blocks of everything. The typical systems that it applies to are atoms, particles, fields, etc... In principle it works for much larger and complex systems too. The difficulty with applying quantum mechanics to large systems is that as the number of degrees of freedom grows linearly, the complexity of their quantum mechanical description grows exponentially. For this reason, QM in practice focuses on fundamental systems, although there is no theoretical limit to the size of the systems that it applies to.\n",
    "\n",
    "In other words, the only limit is our ability to use quantum mechanics, not its correctness."
   ]
  },
  {
   "cell_type": "markdown",
   "metadata": {},
   "source": []
  }
 ],
 "metadata": {
  "language_info": {
   "name": "python"
  }
 },
 "nbformat": 4,
 "nbformat_minor": 2
}
