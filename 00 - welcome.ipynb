{
 "cells": [
  {
   "cell_type": "markdown",
   "metadata": {},
   "source": [
    "# Quantum Mechanics in Python\n",
    "\n",
    "This is a work-in-progress course on quantum mechanics aimed at computer scientists and engineers.\n",
    "When I designed these notebooks I tried to build on the skills of my audience (programming,\n",
    "linear algebra, etc.).\n",
    "\n",
    "Each notebook is relatively short, with a few (coding) exercises.\n",
    "If you follow each lecture in order and do the exercises, at the end you will have built a\n",
    "general quantum mechanics simulator.\n",
    "\n",
    "Having developed several quantum simulators myself, I always found that building something is one\n",
    "of the best ways to learn.\n",
    "\n",
    "New lectures will be added in the future.\n",
    "\n"
   ]
  },
  {
   "cell_type": "markdown",
   "metadata": {},
   "source": []
  }
 ],
 "metadata": {
  "language_info": {
   "name": "python"
  }
 },
 "nbformat": 4,
 "nbformat_minor": 2
}
