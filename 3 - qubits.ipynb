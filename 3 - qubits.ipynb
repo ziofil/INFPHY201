{
 "cells": [
  {
   "cell_type": "code",
   "execution_count": null,
   "metadata": {},
   "outputs": [],
   "source": []
  },
  {
   "cell_type": "markdown",
   "metadata": {},
   "source": [
    "## 3. Qubits\n",
    "Qubits are the simplest quantum states possible. They are systems with only a single property (so a single Hilbert space is suffcient to describe them completely) and this property has only two distinguishable values (so the Hilbert space has dimension 2).\n",
    "\n",
    "A general qubit state is characterized by just two complex amplitudes:\n",
    "\n",
    "$$|\\psi\\rangle = \\alpha|0\\rangle + \\beta|1\\rangle \\quad \\leftrightarrow\\quad \\binom{\\alpha}{\\beta}$$\n",
    "\n",
    "Something that we can do with qubits that is not possible with higher-dimensional states is to visualize them explicitly. Despite depending on two complex numbers (and therefore having 4 real degrees of freedom), the fact that we impose normalization and the fact that the global phase does not matter (we'll prove this in Lecture 2) brings down the number of degrees of freedom from 4 to just 2. Not only that, but the topology of the state space turns out to be equivalent to a sphere (technically, it's the space $\\mathbb{C}\\mathcal{P}^1$, i.e. the complex projective line, which is isomorphic to a 2-sphere).\n",
    "\n",
    "So any qubit state corresponds to a point on a sphere, that's convenient! "
   ]
  },
  {
   "cell_type": "code",
   "execution_count": null,
   "metadata": {},
   "outputs": [],
   "source": [
    "from qutip import Bloch, Qobj\n",
    "b = Bloch()"
   ]
  },
  {
   "cell_type": "code",
   "execution_count": null,
   "metadata": {},
   "outputs": [],
   "source": [
    "b.show()"
   ]
  },
  {
   "cell_type": "code",
   "execution_count": null,
   "metadata": {},
   "outputs": [],
   "source": [
    "b.add_states([Qobj(rand_state(2)) for _ in range(5)])"
   ]
  },
  {
   "cell_type": "code",
   "execution_count": null,
   "metadata": {},
   "outputs": [],
   "source": [
    "b.show()"
   ]
  },
  {
   "cell_type": "code",
   "execution_count": null,
   "metadata": {},
   "outputs": [],
   "source": [
    "b.clear()"
   ]
  },
  {
   "cell_type": "markdown",
   "metadata": {},
   "source": [
    "#### Activity 6: Visualize the quantum relative phase (10 min)\n",
    "- Produce a Bloch sphere visualization of a set of qubit states in the form $|\\psi\\rangle = \\frac{1}{\\sqrt{2}}|0\\rangle + \\frac{e^{i\\phi}}{\\sqrt{2}}|1\\rangle$ for varying values of the phase $\\phi$. All of these states have an equal \"amount\" of $|0\\rangle$ and $|1\\rangle$, but their relative phase is different and this phase leads to physically distinct states.\n",
    "- Using the parametrization $\\sin(\\theta/2)|0\\rangle + e^{i\\phi}\\cos(\\theta/2)|1\\rangle$, fill the Bloch sphere with three sets of qubit states that span three large circles on the XY, YZ and ZX planes."
   ]
  },
  {
   "cell_type": "code",
   "execution_count": null,
   "metadata": {},
   "outputs": [],
   "source": [
    "def qubit(theta, phi):\n",
    "    return Qobj(np.array([np.sin(theta/2), np.exp(1j*phi)*np.cos(theta/2)]))"
   ]
  },
  {
   "cell_type": "code",
   "execution_count": null,
   "metadata": {},
   "outputs": [],
   "source": [
    "b = Bloch()\n",
    "b.add_states([qubit(np.pi/2, phi) for phi in np.linspace(0, 2*np.pi, 20)])\n",
    "b.show()"
   ]
  },
  {
   "cell_type": "code",
   "execution_count": null,
   "metadata": {},
   "outputs": [],
   "source": [
    "b.clear()\n",
    "b.add_states([qubit(theta, 0) for theta in np.linspace(0, 2*np.pi, 20)])\n",
    "b.show()"
   ]
  },
  {
   "cell_type": "code",
   "execution_count": null,
   "metadata": {},
   "outputs": [],
   "source": [
    "b.clear()\n",
    "b.add_states([qubit(theta, np.pi/2) for theta in np.linspace(0, 2*np.pi, 20)])\n",
    "b.show()"
   ]
  }
 ],
 "metadata": {
  "language_info": {
   "name": "python"
  }
 },
 "nbformat": 4,
 "nbformat_minor": 2
}
