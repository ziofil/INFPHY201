{
 "cells": [
  {
   "cell_type": "markdown",
   "metadata": {},
   "source": [
    "![img](https://licensebuttons.net/l/by-nc-sa/3.0/88x31.png) Filippo Miatto (2025) "
   ]
  },
  {
   "cell_type": "markdown",
   "metadata": {},
   "source": [
    "# Lecture 1: Mathematical tools\n",
    "\n",
    "---\n",
    "\n",
    "#### After going through this lecture you will be able to:\n",
    "1. Explain what Hilbert spaces are\n",
    "2. Calculate the inner product of Hilbert space vectors\n",
    "3. Calculate the norm of a Hilbert space vector"
   ]
  },
  {
   "cell_type": "markdown",
   "metadata": {},
   "source": [
    "# Introduction\n",
    "Quantum Mechanics is a theory that describes the most fundamental building blocks of everything. The typical systems that it applies to are atoms, particles, fields etc... and in principle it could apply to much larger systems. The difficulty with applying quantum mechanics to large systems is that the number of degrees of freedom involved grows linearly, but the complexity of their quantum mechanical description grows exponentially in the number of degrees of freedom. For this reason QM in practice focuses on fundamental systems, although there is no theoretical limit to the size of the systems that it applies to.\n",
    "\n",
    "In other words, the only limit is our ability to use quantum mechanics, not its correctness."
   ]
  },
  {
   "cell_type": "markdown",
   "metadata": {},
   "source": [
    "# 1. It's just linear algebra\n",
    "\n",
    "Quantum Mechanics is based on linear algebra. Whenever you feel you're struggling, remind yourself that \"it's just linear algebra!\".\n",
    "\n",
    "In QM we have three main classes of objects: States, Transformations and Measurements. All of them can be described by vectors, matrices, and/or higher order tensors. So no matter how complicated things may seem, it's all just linear algebra! This is the reason why I recommend you are familiar with the basics of linear algebra before starting this course.\n",
    "\n",
    "In this first lecture we will introduce a few important concepts like Hilbert spaces and operations that involve their elements.\n",
    "\n",
    "## 1.1 Hilbert spaces\n",
    "One important aspect of QM is that the vector spaces used within the theory are complex. We can indicate a finite-dimensional complex vector space as $\\mathbb{C}^n$ where we have fixed its dimension to $n$. We will encounter vector spaces of various dimension such as $\\mathbb{C}^2$ (the Hilbert space of a qubit), but also infinite-dimensional vector spaces like $L^2(\\mathbb{R})$. Whichever type of vector space $V$ we are considering, linear combinations of its elements belong to the same vector space, i.e. we can always write:\n",
    "\n",
    "$$\n",
    "\\alpha v + \\beta w \\in V\\qquad \\forall v,w \\in V, \\forall \\alpha, \\beta \\in \\mathbb{C}\n",
    "$$\n",
    "\n",
    "Hilbert spaces are a special type of complex vector space, which are complete and separable. We can define a finite Hilbert space as the collection of all the vectors with $n$ complex entries:\n",
    "$$\n",
    "\\mathbb{C}^n = \\{(v_1, \\dots, v_n) \\in \\mathbb{C}^n\\}\n",
    "$$\n",
    "For infinite-dimensional Hilbert spaces  such as $L^2(\\mathbb{R})$, we need to specify a finite norm:\n",
    "$$\n",
    "L^2(\\mathbb{R}) = \\{f : \\mathbb{R} \\rightarrow \\mathbb{C} \\mid \\int_{-\\infty}^\\infty |f(x)|^2\\,dx < \\infty\\}\n",
    "$$\n",
    "Why is the norm defined this way? To answer this question we need to define inner products, and then use inner products to define the norm.\n",
    "\n",
    "\n",
    "## 1.2 Inner products\n",
    "Let's now see a couple of fundamental operations that we will often need in QM: inner products and norms.\n",
    "\n",
    "Hilbert spaces are equipped with an inner product. We indicate it with $\\langle v, w\\rangle$ and we _implement_ it in a few different ways depending on the nature of the Hilbert space. If the Hilbert space has a finite number of dimensions, then its elements are vectors with entries indexed by an integer index, and we can implement the inner product as:\n",
    "\n",
    "$$\n",
    "\\langle v, w\\rangle = \\sum_iv_i^*w_i\n",
    "$$\n",
    "\n",
    "Notice that the vector $v$ is conjugated when computing the inner product, i.e. we flip the sign of the imaginary component. When the space is infinite-dimensional, its elements can be represented as functions or as infinite sequences. In the first case, we can implement the inner product using an integral. For example for the Hilbert space $L^2(\\mathbb{R})$ the inner product is implemented as:\n",
    "$$\n",
    "\\langle v, w\\rangle = \\int_{-\\infty}^\\infty v^*(x)w(x)\\,dx\n",
    "$$\n",
    "where we have interpreted $v$ and $w$ as functions from $\\mathbb{R}$ to $\\mathbb{C}$. There are more examples of inner product depending on the Hilbert space at hand."
   ]
  },
  {
   "cell_type": "markdown",
   "metadata": {},
   "source": [
    "### Activity 1: inner products\n",
    "- Write a function `inner_prod(v, w)` that computes the inner product between two finite-dimensional complex vectors `v` and `w`. The signature should be `inner_prod(array[complex], array[complex]) -> complex`\n",
    "\n",
    "Note that we are not necessarily seeking optimal performance here, exactness is enough."
   ]
  },
  {
   "cell_type": "code",
   "execution_count": 3,
   "metadata": {},
   "outputs": [],
   "source": [
    "import numpy as np\n",
    "\n",
    "def inner_prod(v: np.ndarray, w: np.ndarray) -> complex:\n",
    "    if v.shape != w.shape:\n",
    "        raise ValueError(\"Vectors must have the same shape\")\n",
    "    return np.sum(np.conj(v) * w)\n",
    "\n",
    "\n",
    "def test_inner_prod(N: int = 100):\n",
    "    for _ in range(N):\n",
    "        x = np.random.randn(10) + 1.0j*np.random.randn(10)\n",
    "        y = np.random.randn(10) + 1.0j*np.random.randn(10)\n",
    "        z = np.random.randn(10) + 1.0j*np.random.randn(10)\n",
    "        assert np.isclose(inner_prod(np.zeros_like(x), x), 0)\n",
    "        # positive definite\n",
    "        assert inner_prod(x, x) > 0\n",
    "        # conjugate symmetric\n",
    "        assert np.isclose(inner_prod(x, y), np.conj(inner_prod(y, x)))\n",
    "        # sesquilinear\n",
    "        assert np.isclose(inner_prod(x + y, x + y), inner_prod(x, x) + 2 * np.real(inner_prod(x, y)) + inner_prod(y, y))\n",
    "        # (anti)linearity\n",
    "        a,b = np.random.randn(2) + 1.0j*np.random.randn(2)\n",
    "        assert np.isclose(inner_prod(a*x + b*y, z), np.conj(a)*inner_prod(x, z) + np.conj(b)*inner_prod(y, z))\n",
    "        assert np.isclose(inner_prod(x, a*y + b*z), a*inner_prod(x, y) + b*inner_prod(x, z))\n",
    "\n",
    "\n",
    "test_inner_prod()"
   ]
  },
  {
   "cell_type": "markdown",
   "metadata": {},
   "source": [
    "## 1.3 Norm\n",
    "The norm is a map from the Hilbert space to the positive real numbers, it maps only the zero vector to 0, and that satisfies the triangle inequality $\\|v + w\\| < \\|v\\| + \\|w\\|$. There are many types of norms. In QM we typically use the 2-norm induced by the inner product (that is why all inner product spaces are also normed spaces):\n",
    "\n",
    "$$\n",
    "\\|v\\| = \\sqrt{\\langle v, v\\rangle}\n",
    "$$\n",
    "whose implementation again depends on the implementation of the inner product:\n",
    "$$\n",
    "\\|v\\|^2 = \\sum_i |v_i|^2\n",
    "$$\n",
    "for finite-dimensional Hilbert spaces, and\n",
    "$$\n",
    "\\|v\\|^2 = \\int_{-\\infty}^\\infty |v(x)|^2\\,dx\n",
    "$$\n",
    "for infinite-dimensional Hilbert spaces.\n",
    "\n",
    "\n",
    "## 1.4 Dirac's notation\n",
    "There is a particular notation that has been adopted by the physics community, known as Dirac's bra-ket notation. It comes from the alternative way of writing an inner product between two vectors $\\mathbf{v}$ and $\\mathbf{w}$ as $\\langle \\mathbf{v}|\\mathbf{w}\\rangle$. If you interpret it as two objects coming together and \"sticking\" to each other, you can separate them into $\\langle \\mathbf{v}|$ and $|\\mathbf{w}\\rangle$ and use them as row and column vectors (more appropriately as covectors and vectors). We call them \"bra\" and \"ket\" because together they sound like the word \"bracket\". Whatever we write inside the ket (or the bra) is just a label for that (co)vector, which sometimes carries useful information about the quantum state that it labels, like when we express the state of electromagnetic vacuum as $|0\\rangle$, meaning zero photons.\n",
    "\n",
    "As the vector space is complex, remember that to turn vectors and covectors into each other you also take the complex conjugate of the elements: $\\langle\\psi| = |\\psi\\rangle^\\dagger$ where the dagger symbol $\\dagger$ computes the \"hermitian conjugate\" (i.e. the conjugate transpose).\n",
    "\n",
    "We will make abundant use of inner products and norms. So let's begin our first activity by defining a couple of helper functions to compute inner products and norms."
   ]
  },
  {
   "cell_type": "markdown",
   "metadata": {},
   "source": [
    "### Activity 2: norm\n",
    "- Write a function `norm(v)` that computes the 2-norm of a finite-dimensional complex vector $v$. The signature should be `norm(array[complex]) -> float`"
   ]
  },
  {
   "cell_type": "code",
   "execution_count": 22,
   "metadata": {},
   "outputs": [],
   "source": [
    "import numpy as np\n",
    "\n",
    "def norm(v):\n",
    "    return np.sqrt(inner_prod(v,v))\n",
    "\n",
    "\n",
    "def test_norm(N=100):\n",
    "    for _ in range(N):\n",
    "        x = np.random.randn(10) + 1.0j*np.random.randn(10)\n",
    "        y = np.random.randn(10) + 1.0j*np.random.randn(10)\n",
    "        # triangle inequality\n",
    "        assert norm(x + y) <= norm(x) + norm(y)\n",
    "        # positive definite\n",
    "        assert norm(x) >= 0\n",
    "        # homogeneity\n",
    "        a = np.random.randn() + 1.0j*np.random.randn()\n",
    "        assert np.isclose(norm(a*x), np.abs(a)*norm(x))\n",
    "        # zero vector\n",
    "        assert np.isclose(norm(np.zeros_like(x)), 0)\n",
    "        \n",
    "\n",
    "test_norm()\n"
   ]
  }
 ],
 "metadata": {
  "kernelspec": {
   "display_name": ".venv",
   "language": "python",
   "name": "python3"
  },
  "language_info": {
   "codemirror_mode": {
    "name": "ipython",
    "version": 3
   },
   "file_extension": ".py",
   "mimetype": "text/x-python",
   "name": "python",
   "nbconvert_exporter": "python",
   "pygments_lexer": "ipython3",
   "version": "3.11.10"
  }
 },
 "nbformat": 4,
 "nbformat_minor": 4
}
