{
 "cells": [
  {
   "cell_type": "markdown",
   "metadata": {},
   "source": [
    "![img](https://licensebuttons.net/l/by-nc-sa/3.0/88x31.png) Filippo Miatto (2020) "
   ]
  },
  {
   "cell_type": "markdown",
   "metadata": {},
   "source": [
    "# 1. Probability operators\n",
    "\n",
    "Any quantum state can be measured, to gather information about it. In Lecture 2 we have seen _projective_ measurements, now we will see _generalized_ measurements. They are usually called POVMs (Positive Operator-Valued Measures) or POMs (Probability Operator Measures). I like the second acronym better, because it reminds us the meaning of the operators, but note that the first is far more popular.\n",
    "\n",
    "## 1.1 The idea\n",
    "The idea is pretty much the same as for projectors: a measurement is a process with a number of outcomes that occur probabilistically. The role of projectors was to represent the outcomes, and their expectation value was the probability of that outcome. It turns out that projectors are not the most general objects with this property, we can in fact generalize a set of projectors to a set of generic _probability operators_. The difference is simple, we simply drop one of the requirements that apply to projectors. Let's first review them:\n",
    "\n",
    "The projectors representing a measurement have the following 4 properties:\n",
    "1. They are Hermitian: $P = P^\\dagger$\n",
    "2. They are positive semidefinite (non-negative eigenvalues) $P\\geq 0$\n",
    "3. They are complete: $\\sum_iP_i=\\mathbb{1}$\n",
    "4. They are mutually orthogonal: $P_iP_j= \\delta_{ij}P_i$\n",
    "\n",
    "General probability operators share all of the above properties __except the last one__: they don't need to be orthogonal to each other. And this makes sense: measurment results could give us overlapping information."
   ]
  },
  {
   "cell_type": "markdown",
   "metadata": {},
   "source": [
    "#### ACTIVITY 1: POM example\n",
    "Write a measurement on a qubit that has 3 outcomes corresponding to $|0\\rangle\\langle0|$, $|+\\rangle\\langle +|$ and a \"third outcome\", and test it on random qubit states. <br>\n",
    "_HINT_: rescaled projectors such as $\\lambda|0\\rangle\\langle 0|$ are valid probability operators."
   ]
  },
  {
   "cell_type": "code",
   "execution_count": null,
   "metadata": {},
   "outputs": [],
   "source": []
  },
  {
   "cell_type": "markdown",
   "metadata": {},
   "source": [
    "#### DEBRIEFING\n",
    "Something that you will see often if you will continue studying quantum information is that in order to \"complete\" a POM, you'll write the final POM element as $\\pi_0 = \\mathbb{1} - \\pi_1 - \\pi_2 - \\dots$.<br> As long as $\\pi_0\\geq0$, this ensures the POM is complete and well-formed."
   ]
  },
  {
   "cell_type": "markdown",
   "metadata": {},
   "source": [
    "## 1.2 Generalized measurements via conditional probabilities\n",
    "\n",
    "Suppose we have a measurement device that is imperfect (this is pretty much always happening in real life). We want a description of quantum measurements that takes this fact into account. The probability that the real outcome is $r$, depends on the conditional probability of ideal outcomes $i$:\n",
    "\n",
    "\\begin{align}\n",
    "P(r) &= \\sum_iP(r|i)P(i)\\\\\n",
    "&= \\sum_iP(r|i)\\,\\langle i|\\rho|i\\rangle\\\\ &= \\sum_iP(r|i)\\,\\mathrm{Tr}(|i\\rangle\\langle i|\\rho)\\\\\n",
    "&= \\mathrm{Tr}(\\sum_iP(r|i)\\,|i\\rangle\\langle i|\\rho) = \\mathrm{Tr}(\\pi_r\\rho)\n",
    "\\end{align}\n"
   ]
  },
  {
   "cell_type": "markdown",
   "metadata": {},
   "source": [
    "Where we have defined $\\pi_r = \\sum_iP(r|i)\\,|i\\rangle\\langle i|$.\n",
    "\n",
    "Let's unpack what we have derived here, because this is the most general version of the Born rule, which:\n",
    "1. involves a generalized version $\\rho$ of the quantum state (to make space for preparation uncertainty)\n",
    "2. involves a generalized version of the measurement (to make space for imperfections and noise):\n",
    "3. The sum is _not_ over a probability distribution, because we are summing the _conditional_ index $i$.\n",
    "4. Completeness is automatically implied: $\\mathbb{1}=\\sum_r\\pi_r = \\sum_{ri}P(r|i)\\,|i\\rangle\\langle i| = \\sum_i|i\\rangle\\langle i|$.\n",
    "\n"
   ]
  }
 ],
 "metadata": {
  "language_info": {
   "name": "python"
  }
 },
 "nbformat": 4,
 "nbformat_minor": 2
}
