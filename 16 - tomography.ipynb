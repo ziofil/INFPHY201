{
 "cells": [
  {
   "cell_type": "code",
   "execution_count": null,
   "metadata": {},
   "outputs": [],
   "source": []
  },
  {
   "cell_type": "markdown",
   "metadata": {},
   "source": [
    "# 2. Quantum Tomography\n",
    "\n",
    "Tomography is an extremely useful procedure in quantum physics, because it allows us to probe quantum systems (such as a quantum computer) and verify that things are as expected (or not).\n",
    "\n",
    "## 2.1 The idea\n",
    "The idea is as follows: suppose I have a machine that produces quantum systems following some fixed procedure. How can you understand what is the state of the systems? The answer is given by performing quantum tomography. There are highly optimized ways to perform tomography, for now we will be satisfied with a simpler procedure (i.e. non-adaptive).\n",
    "\n",
    "We will take a set of measurements that is \"tomographically complete\" (which is a fancy way of saying that the data that they produce is always enough to reconstruct any state, given enough measurements) and we will keep using those. So let's apply it to a source of qubits."
   ]
  },
  {
   "cell_type": "markdown",
   "metadata": {},
   "source": [
    "## 2.2 Tomographically complete qubit measurement\n",
    "\n",
    "First of all, let's see that a projective measurement cannot be tomographically complete. For example, a measurement in the computational basis will never be able to distinguish $|+\\rangle$ from $|-\\rangle$: they both yield 0 or 1 with 50% probability and the states $|+\\rangle$ and $|-\\rangle$ will not look any different from each other. We need to be more clever than that. Our choice will be a 6-outcome measurement with the following six probability operators:\n",
    "\n",
    "1. $\\pi_0 = \\frac13|0\\rangle\\langle 0 |$\n",
    "2. $\\pi_1 = \\frac13|1\\rangle\\langle 1 |$\n",
    "3. $\\pi_+ = \\frac13|+\\rangle\\langle + |$\n",
    "4. $\\pi_- = \\frac13|-\\rangle\\langle - |$\n",
    "5. $\\pi_L = \\frac13|L\\rangle\\langle L |$\n",
    "6. $\\pi_R = \\frac13|R\\rangle\\langle R |$\n",
    "\n",
    "You should verify that it is indeed a POM, as all three conditions are satisfied. It is not a projective measurement because it does not satisfy the mutual orthogonality property."
   ]
  },
  {
   "cell_type": "markdown",
   "metadata": {},
   "source": [
    "#### ACTIVITY 2: matrix form of a POM\n",
    "Write all six POM elements in matrix form"
   ]
  },
  {
   "cell_type": "code",
   "execution_count": null,
   "metadata": {},
   "outputs": [],
   "source": []
  },
  {
   "cell_type": "markdown",
   "metadata": {},
   "source": [
    "#### ACTIVITY 3: from POM to probabilities\n",
    "\n",
    "Pick a random qubit state (pure or mixed, up to you) and produce the probability distribution given by the POM that we defined above. "
   ]
  },
  {
   "cell_type": "code",
   "execution_count": null,
   "metadata": {},
   "outputs": [],
   "source": []
  },
  {
   "cell_type": "markdown",
   "metadata": {},
   "source": [
    "#### ACTIVITY 4: from probabilities to quantum state (tomographical reconstruction)\n",
    "\n",
    "Pick a random probability distribution with 6 elements (i.e. 6 positive numbers adding up to 1) and compute the quantum state that would have given those probabilities. <br>\n",
    "HINT: there are multiple (inequivalent!) ways to do this. One of the easiest ones is to consider pairs of orthogonal POM elements ($\\pi_{0/1}$, $\\pi_{+/-}$ and $\\pi_{L/R}$) and reconstruct the state in three separate stages."
   ]
  },
  {
   "cell_type": "code",
   "execution_count": null,
   "metadata": {},
   "outputs": [],
   "source": []
  }
 ],
 "metadata": {
  "language_info": {
   "name": "python"
  }
 },
 "nbformat": 4,
 "nbformat_minor": 2
}
