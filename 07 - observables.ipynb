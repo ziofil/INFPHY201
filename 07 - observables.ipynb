{
 "cells": [
  {
   "cell_type": "markdown",
   "metadata": {},
   "source": [
    "![img](https://licensebuttons.net/l/by-nc-sa/3.0/88x31.png) Filippo Miatto (2024) "
   ]
  },
  {
   "cell_type": "markdown",
   "metadata": {},
   "source": [
    "# 2. Observables\n",
    "One of the major ideas that we learn in linear algebra is that given a diagonalizable matrix, there exists a basis that makes that matrix diagonal. This is the eigenbasis of that matrix, and therefore the action of the matrix on the basis elements is just to rescale them:\n",
    "\n",
    "$$\n",
    "M|v_i\\rangle = \\lambda_i|v_i\\rangle\n",
    "$$\n",
    "\n",
    "We also know that a basis corresponds to a quantum measurement, so we can associate to a matrix $M$ the measurement that corresponds to its eigenbasis. Because of this, we say that $M$ represents an \"observable quantity\" (or we say that $M$ is an _Observable_).\n",
    "\n",
    "The eigenvalues of $M$ are the numerical values associated to the each possible result. Since we only measure real numerical values and never complex ones, we restrict the quantum observables to be matrices with real eigenvalues. In particular, we identify Hermitian matrices to Observable quantities because they have real eigenvalues and because they make things compatible with the Born rule."
   ]
  },
  {
   "cell_type": "markdown",
   "metadata": {},
   "source": [
    "## 2.1 Effect of a measurement\n",
    "\n",
    "The state of the system after a measurement is the one that corresponds to the result that was observed. So for example, if we prepared the system in state $|\\psi\\rangle$ and we found it in state $|\\phi\\rangle$, the state of the system after the measurement is now $|\\phi\\rangle$ and there is no trace left of the previous state. There is no way to know what state the system was in before the measurement (we only know that it was not orthogonal to $|\\phi\\rangle$ otherwise we couldn't have obtained $|\\phi\\rangle$).\n",
    "\n",
    "---\n",
    "#### Question:\n",
    "\n",
    "If we measure the observable $M$ on a state $|\\psi\\rangle$ and obtain the result corresponding to the state $|v_i\\rangle$, what happens if we measure $M$ again on the same system?\n",
    "\n",
    "---"
   ]
  },
  {
   "cell_type": "markdown",
   "metadata": {},
   "source": [
    "## 2.2 Expectation values\n",
    "\n",
    "If we have an ensemble of systems that are all in the same state $|\\psi\\rangle$ and we measure an observable $M$, unless $|\\psi\\rangle$ is an eigenstate of $M$, we will not always obtain the same measurement result. Sometimes we will get $\\lambda_1$, sometimes $\\lambda_2$ etc... each value will occur with a certain probability given by the Born rule.\n",
    "\n",
    "Specifically, if the value $\\lambda_i$ is measured with probability $p_i=|\\langle v_i|\\psi\\rangle|^2$, then the average value of a measurement of $M$ on the state $\\psi$ is\n",
    "\n",
    "$$\n",
    "\\langle M \\rangle_\\psi = \\sum_i \\lambda_i p_i = \\sum_i \\lambda_i |\\langle v_i|\\psi\\rangle|^2\n",
    "$$\n",
    "\n",
    "Now, recall that $\\langle a|b\\rangle = \\langle b|a\\rangle^*$, then we can write\n",
    "\n",
    "$$\n",
    "\\langle M \\rangle_\\psi = \\sum_i \\lambda_i \\langle\\psi|v_i\\rangle\\langle v_i|\\psi\\rangle = \\langle\\psi|\\left(\\sum_i \\lambda_i|v_i\\rangle\\langle v_i|\\right)|\\psi\\rangle = \\langle\\psi|M|\\psi\\rangle\n",
    "$$\n",
    "\n",
    "So the observable $M$ also allows us to compute very rapidly the expectation value of a measurement: we don't need to diagonalize the matrix, or fiddle with its eigenvectors and eigenvalues: just compute the inner product of the state with the observable on both sides is enough."
   ]
  },
  {
   "cell_type": "markdown",
   "metadata": {},
   "source": [
    "---\n",
    "#### Activity 2: find the probability of the outcomes of a measurement (15 mins)\n",
    "\n",
    "A system defined in a 4-dimensional Hilbert space is in the state $|\\psi\\rangle = (1/2, -1/2, 1/2, -1/2)$.\n",
    "\n",
    "We want to measure the observable defined by the Hermitian matrix\n",
    "$$\n",
    "M = \n",
    "\\begin{pmatrix}\n",
    "1 & 2 & 3 & 4\\\\\n",
    "2 & 0 & 2i & 5\\\\\n",
    "3 & -2i & -1 & 0\\\\\n",
    "4 & 5 & 0 & 0\n",
    "\\end{pmatrix}\n",
    "$$\n",
    "\n",
    "1. Verify that the $|\\psi\\rangle$ is a normalized quantum state\n",
    "2. Find the probabilities of the 4 outcomes of a measurement of the observable $M$\n",
    "\n",
    "TIP: use `np.linalg.eigh` to find eigenvalues and eigenvectors of $M$. Note that `np.linalg.eigh(M)` returns two numpy arrays: the first contains the eigenvalues, the second is a matrix whose **columns** are the eigenvectors of $M$.\n",
    "\n",
    "---"
   ]
  },
  {
   "cell_type": "code",
   "execution_count": null,
   "metadata": {},
   "outputs": [
    {
     "ename": "",
     "evalue": "",
     "output_type": "error",
     "traceback": [
      "\u001b[1;31mFailed to start the Kernel. \n",
      "\n",
      "\u001b[1;31mUnable to start Kernel '.venv (Python 3.11.10)' due to a timeout waiting for the ports to get used. \n",
      "\n",
      "\u001b[1;31mView Jupyter <a href='command:jupyter.viewOutput'>log</a> for further details."
     ]
    }
   ],
   "source": [
    "psi = np.array([0.5, -0.5, 0.5, -0.5])\n",
    "assert np.isclose(np.linalg.norm(psi), 1)\n"
   ]
  },
  {
   "cell_type": "code",
   "execution_count": null,
   "metadata": {},
   "outputs": [
    {
     "ename": "",
     "evalue": "",
     "output_type": "error",
     "traceback": [
      "\u001b[1;31mFailed to start the Kernel. \n",
      "\n",
      "\u001b[1;31mUnable to start Kernel '.venv (Python 3.11.10)' due to a timeout waiting for the ports to get used. \n",
      "\n",
      "\u001b[1;31mView Jupyter <a href='command:jupyter.viewOutput'>log</a> for further details."
     ]
    }
   ],
   "source": [
    "M = np.array([\n",
    "    [1,   2,  3, 4],\n",
    "    [2,   0, 2j, 5],\n",
    "    [3, -2j, -1, 0],\n",
    "    [4,   5,  0, 0]\n",
    "])\n",
    "\n",
    "eigenvalues, eigenvectors = np.linalg.eigh(M)"
   ]
  },
  {
   "cell_type": "code",
   "execution_count": null,
   "metadata": {},
   "outputs": [],
   "source": [
    "pi = probs(psi, eigenvectors.T)"
   ]
  },
  {
   "cell_type": "code",
   "execution_count": null,
   "metadata": {},
   "outputs": [
    {
     "data": {
      "text/plain": [
       "(1+0j)"
      ]
     },
     "metadata": {},
     "output_type": "display_data"
    }
   ],
   "source": [
    "np.conj(psi).T @ (M @ psi)"
   ]
  },
  {
   "cell_type": "markdown",
   "metadata": {},
   "source": [
    "## 3. Projectors\n",
    "\n",
    "When we have the eigenvalues $\\lambda_i$ and the eigenvectors $|v_i\\rangle$ of a matrix $M$, we can rewrite $M$ in the eigenvector basis:\n",
    "\n",
    "$$\n",
    "M = \\sum_i \\lambda_i|v_i\\rangle\\langle v_i|\n",
    "$$\n",
    "\n",
    "The object $|v_i\\rangle\\langle v_i|$ is an outer product of a vector by its hermitian conjugate (i.e. a column-by-row product), which gives a matrix. The matrix $\\pi_i = |v_i\\rangle\\langle v_i|$ is a rank-1 projector. Projectors are operators that have the following property: $\\pi_i^2 = \\pi_i$:\n",
    "\n",
    "$$\\pi_i^2 = |v_i\\rangle\\langle v_i|^2 = (|v_i\\rangle\\langle v_i|)(|v_i\\rangle\\langle v_i|) = |v_i\\rangle\\underbrace{\\langle v_i|v_i\\rangle}_1\\langle v_i| = |v_i\\rangle\\langle v_i| = \\pi_i$$\n",
    "\n",
    "So the matrix $M$ can be rewritten as a sum over projectors:\n",
    "\n",
    "$$\n",
    "M = \\sum_i\\lambda_i \\pi_i\n",
    "$$\n",
    "\n",
    "We can rewrite also Born's rule using projectors :\n",
    "\n",
    "$$\n",
    "P_i = |\\langle v_i|\\psi\\rangle|^2 = \\langle \\psi|v_i\\rangle\\langle v_i|\\psi\\rangle = \\langle \\psi|\\pi_i|\\psi\\rangle\n",
    "$$\n",
    "\n",
    "But this tells us that projectors (which are Hermitian) are probability operators, because their expectation value is a probability (the probability of measuring the state that they project onto). \n",
    "\n",
    "NOTE: _Projectors are not the only probability operators: in a future lecture we will see more general probability operators, but for now we can think of projectors as observables associated with a single measurement outcome._\n",
    "\n",
    "---\n",
    "#### Activity 3: Working with projectors (10 minutes)\n",
    "\n",
    "1. Define the 4 projectors onto the eigenspaces of the operator $M$ defined in Activity 1.\n",
    "2. Verify that the probabilities of the 4 outcomes can be computed via the formula $\\langle\\psi|\\pi_i|\\psi\\rangle$.\n",
    "\n",
    "---"
   ]
  },
  {
   "cell_type": "code",
   "execution_count": null,
   "metadata": {},
   "outputs": [
    {
     "name": "stdout",
     "output_type": "stream",
     "text": [
      "[0.0468597575301523, 0.8191402461617385, 0.12465599962138438, 0.009343996686724906]\n",
      "[0.04685976 0.81914025 0.124656   0.009344  ]\n"
     ]
    }
   ],
   "source": [
    "projectors = [np.einsum('a,b -> ab', v, np.conj(v)) for v in eigenvectors.T]\n",
    "\n",
    "print([np.real(np.einsum('a, ab, b', np.conj(psi), p, psi)) for p in projectors])\n",
    "print(probs)"
   ]
  }
 ],
 "metadata": {
  "language_info": {
   "name": "python"
  }
 },
 "nbformat": 4,
 "nbformat_minor": 2
}
